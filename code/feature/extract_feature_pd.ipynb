{
 "cells": [
  {
   "cell_type": "code",
   "execution_count": 1,
   "metadata": {
    "collapsed": false
   },
   "outputs": [
    {
     "name": "stdout",
     "output_type": "stream",
     "text": [
      "Populating the interactive namespace from numpy and matplotlib\n"
     ]
    }
   ],
   "source": [
    "%pylab inline\n",
    "\n",
    "import pandas as pd\n",
    "from datetime import datetime"
   ]
  },
  {
   "cell_type": "markdown",
   "metadata": {},
   "source": [
    "# 1. 读取数据"
   ]
  },
  {
   "cell_type": "code",
   "execution_count": 3,
   "metadata": {
    "collapsed": false
   },
   "outputs": [
    {
     "name": "stdout",
     "output_type": "stream",
     "text": [
      "\u001b[31mconfig1.csv\u001b[m\u001b[m*             \u001b[31mitem_feature2.csv\u001b[m\u001b[m*       sample_submission.csv\r\n",
      "\u001b[31mconfig2.csv\u001b[m\u001b[m*             \u001b[31mitem_store_feature1.csv\u001b[m\u001b[m*\r\n",
      "\u001b[31mitem_feature1.csv\u001b[m\u001b[m*       \u001b[31mitem_store_feature2.csv\u001b[m\u001b[m*\r\n"
     ]
    }
   ],
   "source": [
    "ls ../../official_data"
   ]
  },
  {
   "cell_type": "code",
   "execution_count": 4,
   "metadata": {
    "collapsed": true
   },
   "outputs": [],
   "source": [
    "# 时间处理函数\n",
    "date_func = lambda x : datetime.strptime(str(x), \"%Y%m%d\")"
   ]
  },
  {
   "cell_type": "code",
   "execution_count": 5,
   "metadata": {
    "collapsed": true
   },
   "outputs": [],
   "source": [
    "path_prefix = \"../../official_data/\"\n",
    "item_global_record_filepath = path_prefix + \"item_feature2.csv\"\n",
    "item_local_record_filepath = path_prefix + \"item_store_feature2.csv\"\n",
    "config_filepath = path_prefix + \"config2.csv\""
   ]
  },
  {
   "cell_type": "markdown",
   "metadata": {},
   "source": [
    "## 1.1 全国数据"
   ]
  },
  {
   "cell_type": "code",
   "execution_count": 6,
   "metadata": {
    "collapsed": true
   },
   "outputs": [],
   "source": [
    "item_global_feature_header =[\"date\",\"item_id\",\"cate_id\",\"cate_level_id\",\"brand_id\",\"supplier_id\",\"pv_ipv\",\"pv_uv\",\"cart_ipv\",\"cart_uv\",\"collect_uv\",\n",
    "         \"num_gmv\",\"amt_gmv\",\"qty_gmv\",\"unum_gmv\",\"amt_alipay\",\"num_alipay\",\"qty_alipay\",\"unum_alipay\",\"ztc_pv_ipv\",\n",
    "         \"tbk_pv_ipv\",\"ss_pv_ipv\",\"jhs_pv_ipv\",\"ztc_pv_uv\",\"tbk_pv_uv\",\"ss_pv_uv\",\"jhs_pv_uv\",\"num_alipay_njhs\",\n",
    "         \"amt_alipay_njhs\",\"qty_alipay_njhs\",\"unum_alipay_njhs\"]"
   ]
  },
  {
   "cell_type": "code",
   "execution_count": 11,
   "metadata": {
    "collapsed": false
   },
   "outputs": [],
   "source": [
    "item_global_records = pd.read_csv(item_global_record_filepath, header = None, names = item_global_feature_header)\n",
    "item_global_records.sort_index(by = [\"date\"], inplace = True)\n",
    "item_global_records[\"store_code\"] = \"0\"\n",
    "item_global_records.date = item_global_records.date.map(date_func)"
   ]
  },
  {
   "cell_type": "markdown",
   "metadata": {},
   "source": [
    "## 1.2 分区数据"
   ]
  },
  {
   "cell_type": "code",
   "execution_count": 8,
   "metadata": {
    "collapsed": true
   },
   "outputs": [],
   "source": [
    "item_local_feature_header = [\"date\",\"item_id\",\"store_code\",\"cate_id\",\"cate_level_id\",\"brand_id\",\"supplier_id\",\n",
    "    \"pv_ipv\",\"pv_uv\",\"cart_ipv\",\"cart_uv\",\"collect_uv\",\"num_gmv\",\"amt_gmv\",\"qty_gmv\",\"unum_gmv\",\"amt_alipay\",\n",
    "    \"num_alipay\",\"qty_alipay\",\"unum_alipay\",\"ztc_pv_ipv\",\"tbk_pv_ipv\",\"ss_pv_ipv\",\"jhs_pv_ipv\",\"ztc_pv_uv\",\n",
    "    \"tbk_pv_uv\",\"ss_pv_uv\",\"jhs_pv_uv\",\"num_alipay_njhs\",\"amt_alipay_njhs\",\"qty_alipay_njhs\",\"unum_alipay_njhs\"]"
   ]
  },
  {
   "cell_type": "code",
   "execution_count": 12,
   "metadata": {
    "collapsed": false
   },
   "outputs": [],
   "source": [
    "item_local_records = pd.read_csv(item_local_record_filepath, header = None, names = item_local_feature_header)\n",
    "item_local_records.sort_index(by = [\"date\"], inplace = True)\n",
    "item_local_records.date = item_local_records.date.map(date_func)"
   ]
  },
  {
   "cell_type": "markdown",
   "metadata": {},
   "source": [
    "# 1.3 合并全国和地区数据"
   ]
  },
  {
   "cell_type": "code",
   "execution_count": 13,
   "metadata": {
    "collapsed": false
   },
   "outputs": [
    {
     "data": {
      "text/html": [
       "<div>\n",
       "<table border=\"1\" class=\"dataframe\">\n",
       "  <thead>\n",
       "    <tr style=\"text-align: right;\">\n",
       "      <th></th>\n",
       "      <th>amt_alipay</th>\n",
       "      <th>amt_alipay_njhs</th>\n",
       "      <th>amt_gmv</th>\n",
       "      <th>brand_id</th>\n",
       "      <th>cart_ipv</th>\n",
       "      <th>cart_uv</th>\n",
       "      <th>cate_id</th>\n",
       "      <th>cate_level_id</th>\n",
       "      <th>collect_uv</th>\n",
       "      <th>date</th>\n",
       "      <th>...</th>\n",
       "      <th>ss_pv_uv</th>\n",
       "      <th>store_code</th>\n",
       "      <th>supplier_id</th>\n",
       "      <th>tbk_pv_ipv</th>\n",
       "      <th>tbk_pv_uv</th>\n",
       "      <th>unum_alipay</th>\n",
       "      <th>unum_alipay_njhs</th>\n",
       "      <th>unum_gmv</th>\n",
       "      <th>ztc_pv_ipv</th>\n",
       "      <th>ztc_pv_uv</th>\n",
       "    </tr>\n",
       "  </thead>\n",
       "  <tbody>\n",
       "    <tr>\n",
       "      <th>601213</th>\n",
       "      <td>47.21</td>\n",
       "      <td>47.21</td>\n",
       "      <td>47.2</td>\n",
       "      <td>41</td>\n",
       "      <td>1</td>\n",
       "      <td>1</td>\n",
       "      <td>22</td>\n",
       "      <td>4</td>\n",
       "      <td>0</td>\n",
       "      <td>2014-10-10</td>\n",
       "      <td>...</td>\n",
       "      <td>1</td>\n",
       "      <td>1</td>\n",
       "      <td>662</td>\n",
       "      <td>0</td>\n",
       "      <td>0</td>\n",
       "      <td>1</td>\n",
       "      <td>1</td>\n",
       "      <td>1</td>\n",
       "      <td>0</td>\n",
       "      <td>0</td>\n",
       "    </tr>\n",
       "    <tr>\n",
       "      <th>110995</th>\n",
       "      <td>0.00</td>\n",
       "      <td>0.00</td>\n",
       "      <td>0.0</td>\n",
       "      <td>40</td>\n",
       "      <td>0</td>\n",
       "      <td>0</td>\n",
       "      <td>39</td>\n",
       "      <td>12</td>\n",
       "      <td>0</td>\n",
       "      <td>2014-10-10</td>\n",
       "      <td>...</td>\n",
       "      <td>0</td>\n",
       "      <td>1</td>\n",
       "      <td>430</td>\n",
       "      <td>0</td>\n",
       "      <td>0</td>\n",
       "      <td>0</td>\n",
       "      <td>0</td>\n",
       "      <td>0</td>\n",
       "      <td>0</td>\n",
       "      <td>0</td>\n",
       "    </tr>\n",
       "    <tr>\n",
       "      <th>742039</th>\n",
       "      <td>0.00</td>\n",
       "      <td>0.00</td>\n",
       "      <td>0.0</td>\n",
       "      <td>406</td>\n",
       "      <td>0</td>\n",
       "      <td>0</td>\n",
       "      <td>39</td>\n",
       "      <td>12</td>\n",
       "      <td>0</td>\n",
       "      <td>2014-10-10</td>\n",
       "      <td>...</td>\n",
       "      <td>0</td>\n",
       "      <td>1</td>\n",
       "      <td>1335</td>\n",
       "      <td>0</td>\n",
       "      <td>0</td>\n",
       "      <td>0</td>\n",
       "      <td>0</td>\n",
       "      <td>0</td>\n",
       "      <td>0</td>\n",
       "      <td>0</td>\n",
       "    </tr>\n",
       "    <tr>\n",
       "      <th>736714</th>\n",
       "      <td>0.00</td>\n",
       "      <td>0.00</td>\n",
       "      <td>0.0</td>\n",
       "      <td>687</td>\n",
       "      <td>0</td>\n",
       "      <td>0</td>\n",
       "      <td>17</td>\n",
       "      <td>12</td>\n",
       "      <td>0</td>\n",
       "      <td>2014-10-10</td>\n",
       "      <td>...</td>\n",
       "      <td>1</td>\n",
       "      <td>1</td>\n",
       "      <td>1986</td>\n",
       "      <td>0</td>\n",
       "      <td>0</td>\n",
       "      <td>0</td>\n",
       "      <td>0</td>\n",
       "      <td>0</td>\n",
       "      <td>0</td>\n",
       "      <td>0</td>\n",
       "    </tr>\n",
       "    <tr>\n",
       "      <th>115031</th>\n",
       "      <td>0.00</td>\n",
       "      <td>0.00</td>\n",
       "      <td>0.0</td>\n",
       "      <td>431</td>\n",
       "      <td>0</td>\n",
       "      <td>0</td>\n",
       "      <td>26</td>\n",
       "      <td>8</td>\n",
       "      <td>0</td>\n",
       "      <td>2014-10-10</td>\n",
       "      <td>...</td>\n",
       "      <td>0</td>\n",
       "      <td>1</td>\n",
       "      <td>80</td>\n",
       "      <td>0</td>\n",
       "      <td>0</td>\n",
       "      <td>0</td>\n",
       "      <td>0</td>\n",
       "      <td>0</td>\n",
       "      <td>0</td>\n",
       "      <td>0</td>\n",
       "    </tr>\n",
       "  </tbody>\n",
       "</table>\n",
       "<p>5 rows × 32 columns</p>\n",
       "</div>"
      ],
      "text/plain": [
       "        amt_alipay  amt_alipay_njhs  amt_gmv  brand_id  cart_ipv  cart_uv  \\\n",
       "601213       47.21            47.21     47.2        41         1        1   \n",
       "110995        0.00             0.00      0.0        40         0        0   \n",
       "742039        0.00             0.00      0.0       406         0        0   \n",
       "736714        0.00             0.00      0.0       687         0        0   \n",
       "115031        0.00             0.00      0.0       431         0        0   \n",
       "\n",
       "        cate_id  cate_level_id  collect_uv       date    ...      ss_pv_uv  \\\n",
       "601213       22              4           0 2014-10-10    ...             1   \n",
       "110995       39             12           0 2014-10-10    ...             0   \n",
       "742039       39             12           0 2014-10-10    ...             0   \n",
       "736714       17             12           0 2014-10-10    ...             1   \n",
       "115031       26              8           0 2014-10-10    ...             0   \n",
       "\n",
       "        store_code  supplier_id  tbk_pv_ipv  tbk_pv_uv  unum_alipay  \\\n",
       "601213           1          662           0          0            1   \n",
       "110995           1          430           0          0            0   \n",
       "742039           1         1335           0          0            0   \n",
       "736714           1         1986           0          0            0   \n",
       "115031           1           80           0          0            0   \n",
       "\n",
       "        unum_alipay_njhs  unum_gmv  ztc_pv_ipv  ztc_pv_uv  \n",
       "601213                 1         1           0          0  \n",
       "110995                 0         0           0          0  \n",
       "742039                 0         0           0          0  \n",
       "736714                 0         0           0          0  \n",
       "115031                 0         0           0          0  \n",
       "\n",
       "[5 rows x 32 columns]"
      ]
     },
     "execution_count": 13,
     "metadata": {},
     "output_type": "execute_result"
    }
   ],
   "source": [
    "records = pd.concat([item_global_records, item_local_records])\n",
    "records.sort_index(by = [\"date\", \"store_code\"], inplace = True)\n",
    "records.head()"
   ]
  },
  {
   "cell_type": "markdown",
   "metadata": {},
   "source": [
    "## 1.3 补偿数据"
   ]
  },
  {
   "cell_type": "code",
   "execution_count": 14,
   "metadata": {
    "collapsed": true
   },
   "outputs": [],
   "source": [
    "config_header = [\"item_id\", \"store_code\", \"a_b\"]"
   ]
  },
  {
   "cell_type": "code",
   "execution_count": 15,
   "metadata": {
    "collapsed": false
   },
   "outputs": [
    {
     "data": {
      "text/html": [
       "<div>\n",
       "<table border=\"1\" class=\"dataframe\">\n",
       "  <thead>\n",
       "    <tr style=\"text-align: right;\">\n",
       "      <th></th>\n",
       "      <th>item_id</th>\n",
       "      <th>store_code</th>\n",
       "      <th>a</th>\n",
       "      <th>b</th>\n",
       "    </tr>\n",
       "  </thead>\n",
       "  <tbody>\n",
       "    <tr>\n",
       "      <th>0</th>\n",
       "      <td>58452</td>\n",
       "      <td>all</td>\n",
       "      <td>46.38</td>\n",
       "      <td>11.86</td>\n",
       "    </tr>\n",
       "    <tr>\n",
       "      <th>1</th>\n",
       "      <td>36132</td>\n",
       "      <td>all</td>\n",
       "      <td>45.79</td>\n",
       "      <td>85.94</td>\n",
       "    </tr>\n",
       "    <tr>\n",
       "      <th>2</th>\n",
       "      <td>34092</td>\n",
       "      <td>all</td>\n",
       "      <td>43.65</td>\n",
       "      <td>83.86</td>\n",
       "    </tr>\n",
       "    <tr>\n",
       "      <th>3</th>\n",
       "      <td>62772</td>\n",
       "      <td>all</td>\n",
       "      <td>44.68</td>\n",
       "      <td>16.89</td>\n",
       "    </tr>\n",
       "    <tr>\n",
       "      <th>4</th>\n",
       "      <td>9597</td>\n",
       "      <td>all</td>\n",
       "      <td>41.04</td>\n",
       "      <td>17.70</td>\n",
       "    </tr>\n",
       "  </tbody>\n",
       "</table>\n",
       "</div>"
      ],
      "text/plain": [
       "   item_id store_code      a      b\n",
       "0    58452        all  46.38  11.86\n",
       "1    36132        all  45.79  85.94\n",
       "2    34092        all  43.65  83.86\n",
       "3    62772        all  44.68  16.89\n",
       "4     9597        all  41.04  17.70"
      ]
     },
     "execution_count": 15,
     "metadata": {},
     "output_type": "execute_result"
    }
   ],
   "source": [
    "item_configs = pd.read_csv(config_filepath, header = None, names = config_header)\n",
    "func_a = lambda x : x.strip().split(\"_\")[0]\n",
    "func_b = lambda x : x.strip().split(\"_\")[1]\n",
    "item_configs[\"a\"] = item_configs[\"a_b\"].map(func_a).astype(float)\n",
    "item_configs[\"b\"] = item_configs[\"a_b\"].map(func_b).astype(float)\n",
    "item_configs.drop(\"a_b\", axis = 1, inplace = True)\n",
    "item_configs.head()"
   ]
  },
  {
   "cell_type": "markdown",
   "metadata": {},
   "source": [
    "# 2. 数据预处理"
   ]
  },
  {
   "cell_type": "code",
   "execution_count": 30,
   "metadata": {
    "collapsed": true
   },
   "outputs": [],
   "source": [
    "from datetime import date, datetime, timedelta\n",
    "def fill(df):\n",
    "    start_date = min(df.date)\n",
    "    end_date = pd.to_datetime(date(2016,1,11))\n",
    "    len_date = (end_date - start_date).days\n",
    "    date_list = [start_date + timedelta(days = d) for d in range(len_date)]\n",
    "    date_list = date_list * 6\n",
    "    store_code_list = []\n",
    "    store_code_list.extend([\"0\"] * len_date)\n",
    "    store_code_list.extend([\"1\"] * len_date)\n",
    "    store_code_list.extend([\"2\"] * len_date)\n",
    "    store_code_list.extend([\"3\"] * len_date)\n",
    "    store_code_list.extend([\"4\"] * len_date)\n",
    "    store_code_list.extend([\"5\"] * len_date)\n",
    "    record_dict = {\"date\": date_list, \"store_code\": store_code_list}\n",
    "    new_df = pd.DataFrame(record_dict)\n",
    "    new_df = pd.merge(new_df, df, on = [\"date\", \"store_code\"], how = \"left\")\n",
    "    fill_value = {\"item_id\":df.item_id.median(),\"cate_id\":df.cate_id.median(),\\\n",
    "                  \"cate_level_id\":df.cate_level_id.median(),\"brand_id\":df.brand_id.median(),\\\n",
    "                  \"supplier_id\":df.supplier_id.median()}\n",
    "    new_df.fillna(fill_value, inplace = True)\n",
    "    new_df.fillna(0, inplace = True)\n",
    "    return new_df"
   ]
  },
  {
   "cell_type": "code",
   "execution_count": 34,
   "metadata": {
    "collapsed": false
   },
   "outputs": [
    {
     "data": {
      "text/html": [
       "<div>\n",
       "<table border=\"1\" class=\"dataframe\">\n",
       "  <thead>\n",
       "    <tr style=\"text-align: right;\">\n",
       "      <th></th>\n",
       "      <th>date</th>\n",
       "      <th>store_code</th>\n",
       "      <th>item_id</th>\n",
       "      <th>amt_alipay</th>\n",
       "      <th>amt_alipay_njhs</th>\n",
       "      <th>amt_gmv</th>\n",
       "      <th>brand_id</th>\n",
       "      <th>cart_ipv</th>\n",
       "      <th>cart_uv</th>\n",
       "      <th>cate_id</th>\n",
       "      <th>...</th>\n",
       "      <th>overall_njhs_median</th>\n",
       "      <th>current_month_njhs_mean</th>\n",
       "      <th>njhs_pre_1</th>\n",
       "      <th>njhs_pre_2</th>\n",
       "      <th>njhs_pre_3</th>\n",
       "      <th>njhs_pre_4</th>\n",
       "      <th>njhs_pre_5</th>\n",
       "      <th>njhs_pre_6</th>\n",
       "      <th>njhs_pre_7</th>\n",
       "      <th>qty_alipay_jhs</th>\n",
       "    </tr>\n",
       "  </thead>\n",
       "  <tbody>\n",
       "    <tr>\n",
       "      <th>0</th>\n",
       "      <td>2015-11-28</td>\n",
       "      <td>0</td>\n",
       "      <td>33</td>\n",
       "      <td>885.3</td>\n",
       "      <td>885.3</td>\n",
       "      <td>4578.87</td>\n",
       "      <td>390</td>\n",
       "      <td>0</td>\n",
       "      <td>0</td>\n",
       "      <td>39</td>\n",
       "      <td>...</td>\n",
       "      <td>0</td>\n",
       "      <td>0.111111</td>\n",
       "      <td>1</td>\n",
       "      <td>1</td>\n",
       "      <td>1</td>\n",
       "      <td>1</td>\n",
       "      <td>1</td>\n",
       "      <td>1</td>\n",
       "      <td>1</td>\n",
       "      <td>0</td>\n",
       "    </tr>\n",
       "    <tr>\n",
       "      <th>1</th>\n",
       "      <td>2015-11-29</td>\n",
       "      <td>0</td>\n",
       "      <td>33</td>\n",
       "      <td>0.0</td>\n",
       "      <td>0.0</td>\n",
       "      <td>0.00</td>\n",
       "      <td>390</td>\n",
       "      <td>1</td>\n",
       "      <td>1</td>\n",
       "      <td>39</td>\n",
       "      <td>...</td>\n",
       "      <td>0</td>\n",
       "      <td>0.111111</td>\n",
       "      <td>1</td>\n",
       "      <td>1</td>\n",
       "      <td>1</td>\n",
       "      <td>1</td>\n",
       "      <td>1</td>\n",
       "      <td>1</td>\n",
       "      <td>1</td>\n",
       "      <td>0</td>\n",
       "    </tr>\n",
       "    <tr>\n",
       "      <th>2</th>\n",
       "      <td>2015-11-30</td>\n",
       "      <td>0</td>\n",
       "      <td>33</td>\n",
       "      <td>885.3</td>\n",
       "      <td>885.3</td>\n",
       "      <td>4578.87</td>\n",
       "      <td>390</td>\n",
       "      <td>3</td>\n",
       "      <td>3</td>\n",
       "      <td>39</td>\n",
       "      <td>...</td>\n",
       "      <td>0</td>\n",
       "      <td>0.111111</td>\n",
       "      <td>0</td>\n",
       "      <td>1</td>\n",
       "      <td>1</td>\n",
       "      <td>1</td>\n",
       "      <td>1</td>\n",
       "      <td>1</td>\n",
       "      <td>1</td>\n",
       "      <td>0</td>\n",
       "    </tr>\n",
       "    <tr>\n",
       "      <th>3</th>\n",
       "      <td>2015-12-01</td>\n",
       "      <td>0</td>\n",
       "      <td>33</td>\n",
       "      <td>0.0</td>\n",
       "      <td>0.0</td>\n",
       "      <td>0.00</td>\n",
       "      <td>390</td>\n",
       "      <td>0</td>\n",
       "      <td>0</td>\n",
       "      <td>39</td>\n",
       "      <td>...</td>\n",
       "      <td>0</td>\n",
       "      <td>0.053763</td>\n",
       "      <td>1</td>\n",
       "      <td>0</td>\n",
       "      <td>1</td>\n",
       "      <td>1</td>\n",
       "      <td>1</td>\n",
       "      <td>1</td>\n",
       "      <td>1</td>\n",
       "      <td>0</td>\n",
       "    </tr>\n",
       "    <tr>\n",
       "      <th>4</th>\n",
       "      <td>2015-12-02</td>\n",
       "      <td>0</td>\n",
       "      <td>33</td>\n",
       "      <td>0.0</td>\n",
       "      <td>0.0</td>\n",
       "      <td>0.00</td>\n",
       "      <td>390</td>\n",
       "      <td>0</td>\n",
       "      <td>0</td>\n",
       "      <td>39</td>\n",
       "      <td>...</td>\n",
       "      <td>0</td>\n",
       "      <td>0.053763</td>\n",
       "      <td>0</td>\n",
       "      <td>1</td>\n",
       "      <td>0</td>\n",
       "      <td>1</td>\n",
       "      <td>1</td>\n",
       "      <td>1</td>\n",
       "      <td>1</td>\n",
       "      <td>0</td>\n",
       "    </tr>\n",
       "  </tbody>\n",
       "</table>\n",
       "<p>5 rows × 50 columns</p>\n",
       "</div>"
      ],
      "text/plain": [
       "        date store_code  item_id  amt_alipay  amt_alipay_njhs  amt_gmv  \\\n",
       "0 2015-11-28          0       33       885.3            885.3  4578.87   \n",
       "1 2015-11-29          0       33         0.0              0.0     0.00   \n",
       "2 2015-11-30          0       33       885.3            885.3  4578.87   \n",
       "3 2015-12-01          0       33         0.0              0.0     0.00   \n",
       "4 2015-12-02          0       33         0.0              0.0     0.00   \n",
       "\n",
       "   brand_id  cart_ipv  cart_uv  cate_id       ...        overall_njhs_median  \\\n",
       "0       390         0        0       39       ...                          0   \n",
       "1       390         1        1       39       ...                          0   \n",
       "2       390         3        3       39       ...                          0   \n",
       "3       390         0        0       39       ...                          0   \n",
       "4       390         0        0       39       ...                          0   \n",
       "\n",
       "   current_month_njhs_mean  njhs_pre_1  njhs_pre_2  njhs_pre_3  njhs_pre_4  \\\n",
       "0                 0.111111           1           1           1           1   \n",
       "1                 0.111111           1           1           1           1   \n",
       "2                 0.111111           0           1           1           1   \n",
       "3                 0.053763           1           0           1           1   \n",
       "4                 0.053763           0           1           0           1   \n",
       "\n",
       "   njhs_pre_5  njhs_pre_6  njhs_pre_7  qty_alipay_jhs  \n",
       "0           1           1           1               0  \n",
       "1           1           1           1               0  \n",
       "2           1           1           1               0  \n",
       "3           1           1           1               0  \n",
       "4           1           1           1               0  \n",
       "\n",
       "[5 rows x 50 columns]"
      ]
     },
     "execution_count": 34,
     "metadata": {},
     "output_type": "execute_result"
    }
   ],
   "source": [
    "records_filled = records.copy().groupby([\"item_id\"], group_keys = False).apply(fill)\n",
    "records_filled.sort_index(by = [\"item_id\", \"store_code\", \"date\"], inplace = True)\n",
    "records_filled.head()"
   ]
  },
  {
   "cell_type": "markdown",
   "metadata": {},
   "source": [
    "# 3. 特征提取"
   ]
  },
  {
   "cell_type": "markdown",
   "metadata": {},
   "source": [
    "## 3.1 时间特征"
   ]
  },
  {
   "cell_type": "code",
   "execution_count": 35,
   "metadata": {
    "collapsed": true
   },
   "outputs": [],
   "source": [
    "dt = pd.DatetimeIndex(records_filled[\"date\"])"
   ]
  },
  {
   "cell_type": "code",
   "execution_count": 36,
   "metadata": {
    "collapsed": true
   },
   "outputs": [],
   "source": [
    "records_filled[\"date\"] = dt.date\n",
    "records_filled[\"year\"] = dt.year\n",
    "records_filled[\"month\"] = dt.month\n",
    "records_filled[\"day\"] = dt.day\n",
    "records_filled[\"dow\"] = dt.dayofweek\n",
    "records_filled[\"woy\"] = dt.weekofyear"
   ]
  },
  {
   "cell_type": "code",
   "execution_count": 37,
   "metadata": {
    "collapsed": false
   },
   "outputs": [
    {
     "data": {
      "text/html": [
       "<div>\n",
       "<table border=\"1\" class=\"dataframe\">\n",
       "  <thead>\n",
       "    <tr style=\"text-align: right;\">\n",
       "      <th></th>\n",
       "      <th>date</th>\n",
       "      <th>store_code</th>\n",
       "      <th>item_id</th>\n",
       "      <th>amt_alipay</th>\n",
       "      <th>amt_alipay_njhs</th>\n",
       "      <th>amt_gmv</th>\n",
       "      <th>brand_id</th>\n",
       "      <th>cart_ipv</th>\n",
       "      <th>cart_uv</th>\n",
       "      <th>cate_id</th>\n",
       "      <th>...</th>\n",
       "      <th>overall_njhs_median</th>\n",
       "      <th>current_month_njhs_mean</th>\n",
       "      <th>njhs_pre_1</th>\n",
       "      <th>njhs_pre_2</th>\n",
       "      <th>njhs_pre_3</th>\n",
       "      <th>njhs_pre_4</th>\n",
       "      <th>njhs_pre_5</th>\n",
       "      <th>njhs_pre_6</th>\n",
       "      <th>njhs_pre_7</th>\n",
       "      <th>qty_alipay_jhs</th>\n",
       "    </tr>\n",
       "  </thead>\n",
       "  <tbody>\n",
       "    <tr>\n",
       "      <th>0</th>\n",
       "      <td>2015-11-28</td>\n",
       "      <td>0</td>\n",
       "      <td>33</td>\n",
       "      <td>885.3</td>\n",
       "      <td>885.3</td>\n",
       "      <td>4578.87</td>\n",
       "      <td>390</td>\n",
       "      <td>0</td>\n",
       "      <td>0</td>\n",
       "      <td>39</td>\n",
       "      <td>...</td>\n",
       "      <td>0</td>\n",
       "      <td>0.111111</td>\n",
       "      <td>1</td>\n",
       "      <td>1</td>\n",
       "      <td>1</td>\n",
       "      <td>1</td>\n",
       "      <td>1</td>\n",
       "      <td>1</td>\n",
       "      <td>1</td>\n",
       "      <td>0</td>\n",
       "    </tr>\n",
       "    <tr>\n",
       "      <th>1</th>\n",
       "      <td>2015-11-29</td>\n",
       "      <td>0</td>\n",
       "      <td>33</td>\n",
       "      <td>0.0</td>\n",
       "      <td>0.0</td>\n",
       "      <td>0.00</td>\n",
       "      <td>390</td>\n",
       "      <td>1</td>\n",
       "      <td>1</td>\n",
       "      <td>39</td>\n",
       "      <td>...</td>\n",
       "      <td>0</td>\n",
       "      <td>0.111111</td>\n",
       "      <td>1</td>\n",
       "      <td>1</td>\n",
       "      <td>1</td>\n",
       "      <td>1</td>\n",
       "      <td>1</td>\n",
       "      <td>1</td>\n",
       "      <td>1</td>\n",
       "      <td>0</td>\n",
       "    </tr>\n",
       "    <tr>\n",
       "      <th>2</th>\n",
       "      <td>2015-11-30</td>\n",
       "      <td>0</td>\n",
       "      <td>33</td>\n",
       "      <td>885.3</td>\n",
       "      <td>885.3</td>\n",
       "      <td>4578.87</td>\n",
       "      <td>390</td>\n",
       "      <td>3</td>\n",
       "      <td>3</td>\n",
       "      <td>39</td>\n",
       "      <td>...</td>\n",
       "      <td>0</td>\n",
       "      <td>0.111111</td>\n",
       "      <td>0</td>\n",
       "      <td>1</td>\n",
       "      <td>1</td>\n",
       "      <td>1</td>\n",
       "      <td>1</td>\n",
       "      <td>1</td>\n",
       "      <td>1</td>\n",
       "      <td>0</td>\n",
       "    </tr>\n",
       "    <tr>\n",
       "      <th>3</th>\n",
       "      <td>2015-12-01</td>\n",
       "      <td>0</td>\n",
       "      <td>33</td>\n",
       "      <td>0.0</td>\n",
       "      <td>0.0</td>\n",
       "      <td>0.00</td>\n",
       "      <td>390</td>\n",
       "      <td>0</td>\n",
       "      <td>0</td>\n",
       "      <td>39</td>\n",
       "      <td>...</td>\n",
       "      <td>0</td>\n",
       "      <td>0.053763</td>\n",
       "      <td>1</td>\n",
       "      <td>0</td>\n",
       "      <td>1</td>\n",
       "      <td>1</td>\n",
       "      <td>1</td>\n",
       "      <td>1</td>\n",
       "      <td>1</td>\n",
       "      <td>0</td>\n",
       "    </tr>\n",
       "    <tr>\n",
       "      <th>4</th>\n",
       "      <td>2015-12-02</td>\n",
       "      <td>0</td>\n",
       "      <td>33</td>\n",
       "      <td>0.0</td>\n",
       "      <td>0.0</td>\n",
       "      <td>0.00</td>\n",
       "      <td>390</td>\n",
       "      <td>0</td>\n",
       "      <td>0</td>\n",
       "      <td>39</td>\n",
       "      <td>...</td>\n",
       "      <td>0</td>\n",
       "      <td>0.053763</td>\n",
       "      <td>0</td>\n",
       "      <td>1</td>\n",
       "      <td>0</td>\n",
       "      <td>1</td>\n",
       "      <td>1</td>\n",
       "      <td>1</td>\n",
       "      <td>1</td>\n",
       "      <td>0</td>\n",
       "    </tr>\n",
       "  </tbody>\n",
       "</table>\n",
       "<p>5 rows × 50 columns</p>\n",
       "</div>"
      ],
      "text/plain": [
       "         date store_code  item_id  amt_alipay  amt_alipay_njhs  amt_gmv  \\\n",
       "0  2015-11-28          0       33       885.3            885.3  4578.87   \n",
       "1  2015-11-29          0       33         0.0              0.0     0.00   \n",
       "2  2015-11-30          0       33       885.3            885.3  4578.87   \n",
       "3  2015-12-01          0       33         0.0              0.0     0.00   \n",
       "4  2015-12-02          0       33         0.0              0.0     0.00   \n",
       "\n",
       "   brand_id  cart_ipv  cart_uv  cate_id       ...        overall_njhs_median  \\\n",
       "0       390         0        0       39       ...                          0   \n",
       "1       390         1        1       39       ...                          0   \n",
       "2       390         3        3       39       ...                          0   \n",
       "3       390         0        0       39       ...                          0   \n",
       "4       390         0        0       39       ...                          0   \n",
       "\n",
       "   current_month_njhs_mean  njhs_pre_1  njhs_pre_2  njhs_pre_3  njhs_pre_4  \\\n",
       "0                 0.111111           1           1           1           1   \n",
       "1                 0.111111           1           1           1           1   \n",
       "2                 0.111111           0           1           1           1   \n",
       "3                 0.053763           1           0           1           1   \n",
       "4                 0.053763           0           1           0           1   \n",
       "\n",
       "   njhs_pre_5  njhs_pre_6  njhs_pre_7  qty_alipay_jhs  \n",
       "0           1           1           1               0  \n",
       "1           1           1           1               0  \n",
       "2           1           1           1               0  \n",
       "3           1           1           1               0  \n",
       "4           1           1           1               0  \n",
       "\n",
       "[5 rows x 50 columns]"
      ]
     },
     "execution_count": 37,
     "metadata": {},
     "output_type": "execute_result"
    }
   ],
   "source": [
    "records_filled.head()"
   ]
  },
  {
   "cell_type": "markdown",
   "metadata": {
    "collapsed": false
   },
   "source": [
    "## 3.2 全局特征"
   ]
  },
  {
   "cell_type": "code",
   "execution_count": 38,
   "metadata": {
    "collapsed": true
   },
   "outputs": [],
   "source": [
    "overall_njhs_mean = records_filled.groupby(\"item_id\").qty_alipay_njhs.mean()\n",
    "overall_njhs_min = records_filled.groupby(\"item_id\").qty_alipay_njhs.min()\n",
    "overall_njhs_max = records_filled.groupby(\"item_id\").qty_alipay_njhs.max()\n",
    "overall_njhs_median = records_filled.groupby(\"item_id\").qty_alipay_njhs.median()\n",
    "\n",
    "records_filled[\"overall_njhs_mean\"] = records_filled[\"item_id\"].map(overall_njhs_mean.to_dict())\n",
    "records_filled[\"overall_njhs_min\"] = records_filled[\"item_id\"].map(overall_njhs_min.to_dict())\n",
    "records_filled[\"overall_njhs_max\"] = records_filled[\"item_id\"].map(overall_njhs_max.to_dict())\n",
    "records_filled[\"overall_njhs_median\"] = records_filled[\"item_id\"].map(overall_njhs_median.to_dict())"
   ]
  },
  {
   "cell_type": "markdown",
   "metadata": {},
   "source": [
    "## 3.3 局部特征"
   ]
  },
  {
   "cell_type": "code",
   "execution_count": 39,
   "metadata": {
    "collapsed": false
   },
   "outputs": [],
   "source": [
    "month_feature = records_filled.groupby([\"item_id\", \"month\"]).qty_alipay_njhs.mean()\n",
    "month_feature = month_feature.to_dict()\n",
    "records_filled[\"current_month_njhs_mean\"] = records_filled.apply(lambda x : month_feature[(x[\"item_id\"], x[\"month\"])], axis = 1)"
   ]
  },
  {
   "cell_type": "markdown",
   "metadata": {},
   "source": [
    "## 3.4 历史特征"
   ]
  },
  {
   "cell_type": "code",
   "execution_count": 40,
   "metadata": {
    "collapsed": true
   },
   "outputs": [],
   "source": [
    "def shiftFunc(df, window_size, cols):\n",
    "    item_series_len = df.shape[0]\n",
    "    window_size = min(window_size + 1, item_series_len)\n",
    "    for w in range(1, window_size):\n",
    "        item_series = [df.qty_alipay_njhs[0]] * w\n",
    "        item_series.extend(df.qty_alipay_njhs[0:-w])\n",
    "        df[cols[w-1]] = item_series\n",
    "    return df"
   ]
  },
  {
   "cell_type": "code",
   "execution_count": 41,
   "metadata": {
    "collapsed": false
   },
   "outputs": [],
   "source": [
    "records_filled.set_index([\"item_id\", \"date\"], inplace = True)\n",
    "shift_cols = [\"njhs_pre_1\", \"njhs_pre_2\", \"njhs_pre_3\", \"njhs_pre_4\", \"njhs_pre_5\", \"njhs_pre_6\", \"njhs_pre_7\"]\n",
    "records_filled_shift = records_filled.groupby(level = [\"item_id\"]).apply(lambda x : shiftFunc(x, 7, shift_cols))\n",
    "records_filled_shift.reset_index(inplace = True)"
   ]
  },
  {
   "cell_type": "code",
   "execution_count": 42,
   "metadata": {
    "collapsed": true
   },
   "outputs": [],
   "source": [
    "records_filled_shift[\"qty_alipay_jhs\"] = records_filled_shift[\"qty_alipay\"] - records_filled_shift[\"qty_alipay_njhs\"]"
   ]
  },
  {
   "cell_type": "code",
   "execution_count": 73,
   "metadata": {
    "collapsed": false
   },
   "outputs": [
    {
     "data": {
      "text/html": [
       "<div>\n",
       "<table border=\"1\" class=\"dataframe\">\n",
       "  <thead>\n",
       "    <tr style=\"text-align: right;\">\n",
       "      <th></th>\n",
       "      <th></th>\n",
       "      <th>store_code</th>\n",
       "      <th>amt_alipay</th>\n",
       "      <th>amt_alipay_njhs</th>\n",
       "      <th>amt_gmv</th>\n",
       "      <th>brand_id</th>\n",
       "      <th>cart_ipv</th>\n",
       "      <th>cart_uv</th>\n",
       "      <th>cate_id</th>\n",
       "      <th>cate_level_id</th>\n",
       "      <th>collect_uv</th>\n",
       "      <th>...</th>\n",
       "      <th>overall_njhs_median</th>\n",
       "      <th>current_month_njhs_mean</th>\n",
       "      <th>njhs_pre_1</th>\n",
       "      <th>njhs_pre_2</th>\n",
       "      <th>njhs_pre_3</th>\n",
       "      <th>njhs_pre_4</th>\n",
       "      <th>njhs_pre_5</th>\n",
       "      <th>njhs_pre_6</th>\n",
       "      <th>njhs_pre_7</th>\n",
       "      <th>qty_alipay_jhs</th>\n",
       "    </tr>\n",
       "    <tr>\n",
       "      <th>item_id</th>\n",
       "      <th>date</th>\n",
       "      <th></th>\n",
       "      <th></th>\n",
       "      <th></th>\n",
       "      <th></th>\n",
       "      <th></th>\n",
       "      <th></th>\n",
       "      <th></th>\n",
       "      <th></th>\n",
       "      <th></th>\n",
       "      <th></th>\n",
       "      <th></th>\n",
       "      <th></th>\n",
       "      <th></th>\n",
       "      <th></th>\n",
       "      <th></th>\n",
       "      <th></th>\n",
       "      <th></th>\n",
       "      <th></th>\n",
       "      <th></th>\n",
       "      <th></th>\n",
       "      <th></th>\n",
       "    </tr>\n",
       "  </thead>\n",
       "  <tbody>\n",
       "    <tr>\n",
       "      <th rowspan=\"5\" valign=\"top\">33</th>\n",
       "      <th>2015-11-28</th>\n",
       "      <td>0</td>\n",
       "      <td>885.3</td>\n",
       "      <td>885.3</td>\n",
       "      <td>4578.87</td>\n",
       "      <td>390</td>\n",
       "      <td>0</td>\n",
       "      <td>0</td>\n",
       "      <td>39</td>\n",
       "      <td>12</td>\n",
       "      <td>0</td>\n",
       "      <td>...</td>\n",
       "      <td>0</td>\n",
       "      <td>0.111111</td>\n",
       "      <td>1</td>\n",
       "      <td>1</td>\n",
       "      <td>1</td>\n",
       "      <td>1</td>\n",
       "      <td>1</td>\n",
       "      <td>1</td>\n",
       "      <td>1</td>\n",
       "      <td>0</td>\n",
       "    </tr>\n",
       "    <tr>\n",
       "      <th>2015-11-29</th>\n",
       "      <td>0</td>\n",
       "      <td>0.0</td>\n",
       "      <td>0.0</td>\n",
       "      <td>0.00</td>\n",
       "      <td>390</td>\n",
       "      <td>1</td>\n",
       "      <td>1</td>\n",
       "      <td>39</td>\n",
       "      <td>12</td>\n",
       "      <td>0</td>\n",
       "      <td>...</td>\n",
       "      <td>0</td>\n",
       "      <td>0.111111</td>\n",
       "      <td>1</td>\n",
       "      <td>1</td>\n",
       "      <td>1</td>\n",
       "      <td>1</td>\n",
       "      <td>1</td>\n",
       "      <td>1</td>\n",
       "      <td>1</td>\n",
       "      <td>0</td>\n",
       "    </tr>\n",
       "    <tr>\n",
       "      <th>2015-11-30</th>\n",
       "      <td>0</td>\n",
       "      <td>885.3</td>\n",
       "      <td>885.3</td>\n",
       "      <td>4578.87</td>\n",
       "      <td>390</td>\n",
       "      <td>3</td>\n",
       "      <td>3</td>\n",
       "      <td>39</td>\n",
       "      <td>12</td>\n",
       "      <td>1</td>\n",
       "      <td>...</td>\n",
       "      <td>0</td>\n",
       "      <td>0.111111</td>\n",
       "      <td>0</td>\n",
       "      <td>1</td>\n",
       "      <td>1</td>\n",
       "      <td>1</td>\n",
       "      <td>1</td>\n",
       "      <td>1</td>\n",
       "      <td>1</td>\n",
       "      <td>0</td>\n",
       "    </tr>\n",
       "    <tr>\n",
       "      <th>2015-12-01</th>\n",
       "      <td>0</td>\n",
       "      <td>0.0</td>\n",
       "      <td>0.0</td>\n",
       "      <td>0.00</td>\n",
       "      <td>390</td>\n",
       "      <td>0</td>\n",
       "      <td>0</td>\n",
       "      <td>39</td>\n",
       "      <td>12</td>\n",
       "      <td>1</td>\n",
       "      <td>...</td>\n",
       "      <td>0</td>\n",
       "      <td>0.053763</td>\n",
       "      <td>1</td>\n",
       "      <td>0</td>\n",
       "      <td>1</td>\n",
       "      <td>1</td>\n",
       "      <td>1</td>\n",
       "      <td>1</td>\n",
       "      <td>1</td>\n",
       "      <td>0</td>\n",
       "    </tr>\n",
       "    <tr>\n",
       "      <th>2015-12-02</th>\n",
       "      <td>0</td>\n",
       "      <td>0.0</td>\n",
       "      <td>0.0</td>\n",
       "      <td>0.00</td>\n",
       "      <td>390</td>\n",
       "      <td>0</td>\n",
       "      <td>0</td>\n",
       "      <td>39</td>\n",
       "      <td>12</td>\n",
       "      <td>0</td>\n",
       "      <td>...</td>\n",
       "      <td>0</td>\n",
       "      <td>0.053763</td>\n",
       "      <td>0</td>\n",
       "      <td>1</td>\n",
       "      <td>0</td>\n",
       "      <td>1</td>\n",
       "      <td>1</td>\n",
       "      <td>1</td>\n",
       "      <td>1</td>\n",
       "      <td>0</td>\n",
       "    </tr>\n",
       "  </tbody>\n",
       "</table>\n",
       "<p>5 rows × 48 columns</p>\n",
       "</div>"
      ],
      "text/plain": [
       "                   store_code  amt_alipay  amt_alipay_njhs  amt_gmv  brand_id  \\\n",
       "item_id date                                                                    \n",
       "33      2015-11-28          0       885.3            885.3  4578.87       390   \n",
       "        2015-11-29          0         0.0              0.0     0.00       390   \n",
       "        2015-11-30          0       885.3            885.3  4578.87       390   \n",
       "        2015-12-01          0         0.0              0.0     0.00       390   \n",
       "        2015-12-02          0         0.0              0.0     0.00       390   \n",
       "\n",
       "                    cart_ipv  cart_uv  cate_id  cate_level_id  collect_uv  \\\n",
       "item_id date                                                                \n",
       "33      2015-11-28         0        0       39             12           0   \n",
       "        2015-11-29         1        1       39             12           0   \n",
       "        2015-11-30         3        3       39             12           1   \n",
       "        2015-12-01         0        0       39             12           1   \n",
       "        2015-12-02         0        0       39             12           0   \n",
       "\n",
       "                         ...        overall_njhs_median  \\\n",
       "item_id date             ...                              \n",
       "33      2015-11-28       ...                          0   \n",
       "        2015-11-29       ...                          0   \n",
       "        2015-11-30       ...                          0   \n",
       "        2015-12-01       ...                          0   \n",
       "        2015-12-02       ...                          0   \n",
       "\n",
       "                    current_month_njhs_mean  njhs_pre_1  njhs_pre_2  \\\n",
       "item_id date                                                          \n",
       "33      2015-11-28                 0.111111           1           1   \n",
       "        2015-11-29                 0.111111           1           1   \n",
       "        2015-11-30                 0.111111           0           1   \n",
       "        2015-12-01                 0.053763           1           0   \n",
       "        2015-12-02                 0.053763           0           1   \n",
       "\n",
       "                    njhs_pre_3  njhs_pre_4  njhs_pre_5  njhs_pre_6  \\\n",
       "item_id date                                                         \n",
       "33      2015-11-28           1           1           1           1   \n",
       "        2015-11-29           1           1           1           1   \n",
       "        2015-11-30           1           1           1           1   \n",
       "        2015-12-01           1           1           1           1   \n",
       "        2015-12-02           0           1           1           1   \n",
       "\n",
       "                    njhs_pre_7  qty_alipay_jhs  \n",
       "item_id date                                    \n",
       "33      2015-11-28           1               0  \n",
       "        2015-11-29           1               0  \n",
       "        2015-11-30           1               0  \n",
       "        2015-12-01           1               0  \n",
       "        2015-12-02           1               0  \n",
       "\n",
       "[5 rows x 48 columns]"
      ]
     },
     "execution_count": 73,
     "metadata": {},
     "output_type": "execute_result"
    }
   ],
   "source": [
    "records_final = records_filled_shift\n",
    "records_final.fillna(0, inplace = True)\n",
    "records_final.sort_index(by = [\"date\", \"item_id\", \"store_code\"], inplace = True)\n",
    "records_filled.head()"
   ]
  },
  {
   "cell_type": "markdown",
   "metadata": {},
   "source": [
    "# 4. 数据集划分"
   ]
  },
  {
   "cell_type": "code",
   "execution_count": 53,
   "metadata": {
    "collapsed": true
   },
   "outputs": [],
   "source": [
    "feature_cols = [\"item_id\", \"store_code\", \"year\", \"month\", \"day\", \"dow\", \"woy\",\\\n",
    "                 \"cate_level_id\", \"cate_id\", \"brand_id\", \"supplier_id\",\n",
    "                 \"overall_njhs_mean\", \"overall_njhs_min\", \"overall_njhs_max\", \"overall_njhs_median\",\\\n",
    "                 \"current_month_njhs_mean\",\\\n",
    "                 \"njhs_pre_1\", \"njhs_pre_2\", \"njhs_pre_3\", \"njhs_pre_4\", \"njhs_pre_5\", \"njhs_pre_6\"]\n",
    "target_cols = [\"qty_alipay_njhs\"]"
   ]
  },
  {
   "cell_type": "code",
   "execution_count": 65,
   "metadata": {
    "collapsed": false
   },
   "outputs": [],
   "source": [
    "X_all = records_final[feature_cols]\n",
    "X_train = records_final[records_final.date <= date(2015,12,13)][feature_cols]\n",
    "y_train = records_final[records_final.date <= date(2015,12,13)][target_cols]\n",
    "X_val = records_final[(records_final.date >= date(2015,12,14)) & (records_final.date <= date(2015,12,27))][feature_cols]\n",
    "y_val = records_final[(records_final.date >= date(2015,12,14)) & (records_final.date <= date(2015,12,27))][target_cols]\n",
    "X_test = records_final[records_final.date >= date(2015,12,28)][feature_cols]\n",
    "\n",
    "X_all = np.array(X_all)\n",
    "X_train = np.array(X_train)\n",
    "y_train = np.array(y_train)\n",
    "X_val = np.array(X_val)\n",
    "y_val = np.array(y_val)\n",
    "X_test = np.array(X_test)\n",
    "\n",
    "X_all = X_all.astype(int)\n",
    "X_train = X_train.astype(int)\n",
    "X_val = X_val.astype(int)\n",
    "X_test = X_test.astype(int)"
   ]
  },
  {
   "cell_type": "code",
   "execution_count": 66,
   "metadata": {
    "collapsed": false
   },
   "outputs": [
    {
     "name": "stdout",
     "output_type": "stream",
     "text": [
      "training size: 1307124\n",
      "validation size: 80844\n",
      "test size: 80892\n",
      "feature size: 22\n"
     ]
    }
   ],
   "source": [
    "print \"training size: \" + str(len(X_train))\n",
    "print \"validation size: \" + str(len(X_val))\n",
    "print \"test size: \" + str(len(X_test))\n",
    "print \"feature size: \" + str(len(X_train[0]))"
   ]
  },
  {
   "cell_type": "markdown",
   "metadata": {},
   "source": [
    "# 5.序列化特征文件"
   ]
  },
  {
   "cell_type": "code",
   "execution_count": 68,
   "metadata": {
    "collapsed": false
   },
   "outputs": [],
   "source": [
    "import pickle\n",
    "from sklearn import preprocessing\n",
    "\n",
    "les = []\n",
    "category_feature_len = 11\n",
    "for col in range(category_feature_len):\n",
    "    le = preprocessing.LabelEncoder()\n",
    "    le.fit(X_all[:, col])\n",
    "    les.append(le)\n",
    "    X_train[:, col] = le.transform(X_train[:, col])\n",
    "    X_val[:, col] = le.transform(X_val[:, col])\n",
    "    X_test[:, col] = le.transform(X_test[:, col])\n",
    "X_train = X_train.astype(int)\n",
    "X_val = X_val.astype(int)\n",
    "X_test = X_test.astype(int)\n",
    "    \n",
    "with open(\"../data/les.pickle\", \"wb\") as f:\n",
    "    pickle.dump(les, f, -1)\n",
    "\n",
    "with open(\"../data/train_xy.pickle\", \"wb\") as f:\n",
    "    pickle.dump((X_train, y_train), f, -1)\n",
    "\n",
    "with open(\"../data/val_xy.pickle\", \"wb\") as f:\n",
    "    pickle.dump((X_val, y_val), f, -1)    \n",
    "    \n",
    "with open(\"../data/test_x.pickle\", \"wb\") as f:\n",
    "    pickle.dump(X_test, f, -1) "
   ]
  },
  {
   "cell_type": "code",
   "execution_count": null,
   "metadata": {
    "collapsed": true
   },
   "outputs": [],
   "source": []
  }
 ],
 "metadata": {
  "kernelspec": {
   "display_name": "Python 2",
   "language": "python",
   "name": "python2"
  },
  "language_info": {
   "codemirror_mode": {
    "name": "ipython",
    "version": 2
   },
   "file_extension": ".py",
   "mimetype": "text/x-python",
   "name": "python",
   "nbconvert_exporter": "python",
   "pygments_lexer": "ipython2",
   "version": "2.7.6"
  }
 },
 "nbformat": 4,
 "nbformat_minor": 0
}
