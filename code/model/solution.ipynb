{
 "cells": [
  {
   "cell_type": "code",
   "execution_count": 1,
   "metadata": {
    "collapsed": false
   },
   "outputs": [
    {
     "name": "stdout",
     "output_type": "stream",
     "text": [
      "Populating the interactive namespace from numpy and matplotlib\n"
     ]
    }
   ],
   "source": [
    "%pylab inline"
   ]
  },
  {
   "cell_type": "code",
   "execution_count": 2,
   "metadata": {
    "collapsed": true
   },
   "outputs": [],
   "source": [
    "import pandas as pd\n",
    "from datetime import date,datetime,timedelta"
   ]
  },
  {
   "cell_type": "markdown",
   "metadata": {},
   "source": [
    "# 1. 读取数据"
   ]
  },
  {
   "cell_type": "code",
   "execution_count": 3,
   "metadata": {
    "collapsed": false
   },
   "outputs": [
    {
     "name": "stdout",
     "output_type": "stream",
     "text": [
      "\u001b[31mconfig1.csv\u001b[m\u001b[m*             \u001b[31mitem_feature2.csv\u001b[m\u001b[m*       sample_submission.csv\r\n",
      "\u001b[31mconfig2.csv\u001b[m\u001b[m*             \u001b[31mitem_store_feature1.csv\u001b[m\u001b[m*\r\n",
      "\u001b[31mitem_feature1.csv\u001b[m\u001b[m*       \u001b[31mitem_store_feature2.csv\u001b[m\u001b[m*\r\n"
     ]
    }
   ],
   "source": [
    "ls ../../data"
   ]
  },
  {
   "cell_type": "code",
   "execution_count": 4,
   "metadata": {
    "collapsed": true
   },
   "outputs": [],
   "source": [
    "# 时间处理函数\n",
    "date_func = lambda x : datetime.strptime(str(x), \"%Y%m%d\")"
   ]
  },
  {
   "cell_type": "code",
   "execution_count": 5,
   "metadata": {
    "collapsed": true
   },
   "outputs": [],
   "source": [
    "path_prefix = \"../../data/\"\n",
    "item_global_record_filepath = path_prefix + \"item_feature2.csv\"\n",
    "item_local_record_filepath = path_prefix + \"item_store_feature2.csv\"\n",
    "config_filepath = path_prefix + \"config2.csv\""
   ]
  },
  {
   "cell_type": "markdown",
   "metadata": {},
   "source": [
    "## 1.1 全国数据"
   ]
  },
  {
   "cell_type": "code",
   "execution_count": 6,
   "metadata": {
    "collapsed": true
   },
   "outputs": [],
   "source": [
    "item_global_feature_header =[\"date\",\"item_id\",\"cate_id\",\"cate_level_id\",\"brand_id\",\"supplier_id\",\"pv_ipv\",\"pv_uv\",\"cart_ipv\",\"cart_uv\",\"collect_uv\",\n",
    "         \"num_gmv\",\"amt_gmv\",\"qty_gmv\",\"unum_gmv\",\"amt_alipay\",\"num_alipay\",\"qty_alipay\",\"unum_alipay\",\"ztc_pv_ipv\",\n",
    "         \"tbk_pv_ipv\",\"ss_pv_ipv\",\"jhs_pv_ipv\",\"ztc_pv_uv\",\"tbk_pv_uv\",\"ss_pv_uv\",\"jhs_pv_uv\",\"num_alipay_njhs\",\n",
    "         \"amt_alipay_njhs\",\"qty_alipay_njhs\",\"unum_alipay_njhs\"]"
   ]
  },
  {
   "cell_type": "code",
   "execution_count": 7,
   "metadata": {
    "collapsed": false
   },
   "outputs": [],
   "source": [
    "item_global_records = pd.read_csv(item_global_record_filepath, header = None, names = item_global_feature_header)\n",
    "item_global_records.sort_index(by = [\"date\"], inplace = True)\n",
    "item_global_records[\"store_code\"] = 0\n",
    "item_global_records.date = item_global_records.date.map(date_func)"
   ]
  },
  {
   "cell_type": "markdown",
   "metadata": {},
   "source": [
    "## 1.2 分区数据"
   ]
  },
  {
   "cell_type": "code",
   "execution_count": 8,
   "metadata": {
    "collapsed": true
   },
   "outputs": [],
   "source": [
    "item_local_feature_header = [\"date\",\"item_id\",\"store_code\",\"cate_id\",\"cate_level_id\",\"brand_id\",\"supplier_id\",\n",
    "    \"pv_ipv\",\"pv_uv\",\"cart_ipv\",\"cart_uv\",\"collect_uv\",\"num_gmv\",\"amt_gmv\",\"qty_gmv\",\"unum_gmv\",\"amt_alipay\",\n",
    "    \"num_alipay\",\"qty_alipay\",\"unum_alipay\",\"ztc_pv_ipv\",\"tbk_pv_ipv\",\"ss_pv_ipv\",\"jhs_pv_ipv\",\"ztc_pv_uv\",\n",
    "    \"tbk_pv_uv\",\"ss_pv_uv\",\"jhs_pv_uv\",\"num_alipay_njhs\",\"amt_alipay_njhs\",\"qty_alipay_njhs\",\"unum_alipay_njhs\"]"
   ]
  },
  {
   "cell_type": "code",
   "execution_count": 9,
   "metadata": {
    "collapsed": false
   },
   "outputs": [],
   "source": [
    "item_local_records = pd.read_csv(item_local_record_filepath, header = None, names = item_local_feature_header)\n",
    "item_local_records.sort_index(by = [\"date\"], inplace = True)\n",
    "item_local_records[\"store_code\"].map(lambda x : int(x))\n",
    "item_local_records.date = item_local_records.date.map(date_func)"
   ]
  },
  {
   "cell_type": "markdown",
   "metadata": {},
   "source": [
    "## 1.3 合并全国和地区数据"
   ]
  },
  {
   "cell_type": "code",
   "execution_count": 10,
   "metadata": {
    "collapsed": false
   },
   "outputs": [
    {
     "data": {
      "text/html": [
       "<div>\n",
       "<table border=\"1\" class=\"dataframe\">\n",
       "  <thead>\n",
       "    <tr style=\"text-align: right;\">\n",
       "      <th></th>\n",
       "      <th>amt_alipay</th>\n",
       "      <th>amt_alipay_njhs</th>\n",
       "      <th>amt_gmv</th>\n",
       "      <th>brand_id</th>\n",
       "      <th>cart_ipv</th>\n",
       "      <th>cart_uv</th>\n",
       "      <th>cate_id</th>\n",
       "      <th>cate_level_id</th>\n",
       "      <th>collect_uv</th>\n",
       "      <th>date</th>\n",
       "      <th>...</th>\n",
       "      <th>store_code</th>\n",
       "      <th>supplier_id</th>\n",
       "      <th>tbk_pv_ipv</th>\n",
       "      <th>tbk_pv_uv</th>\n",
       "      <th>unum_alipay</th>\n",
       "      <th>unum_alipay_njhs</th>\n",
       "      <th>unum_gmv</th>\n",
       "      <th>ztc_pv_ipv</th>\n",
       "      <th>ztc_pv_uv</th>\n",
       "      <th>qty_alipay_jhs</th>\n",
       "    </tr>\n",
       "  </thead>\n",
       "  <tbody>\n",
       "    <tr>\n",
       "      <th>204814</th>\n",
       "      <td>4865.49</td>\n",
       "      <td>4865.49</td>\n",
       "      <td>29832.31</td>\n",
       "      <td>219</td>\n",
       "      <td>6</td>\n",
       "      <td>6</td>\n",
       "      <td>32</td>\n",
       "      <td>11</td>\n",
       "      <td>12</td>\n",
       "      <td>2014-10-10</td>\n",
       "      <td>...</td>\n",
       "      <td>0</td>\n",
       "      <td>2062</td>\n",
       "      <td>0</td>\n",
       "      <td>0</td>\n",
       "      <td>3</td>\n",
       "      <td>3</td>\n",
       "      <td>4</td>\n",
       "      <td>76</td>\n",
       "      <td>44</td>\n",
       "      <td>0</td>\n",
       "    </tr>\n",
       "    <tr>\n",
       "      <th>146784</th>\n",
       "      <td>1185.81</td>\n",
       "      <td>1185.81</td>\n",
       "      <td>3360.63</td>\n",
       "      <td>629</td>\n",
       "      <td>2</td>\n",
       "      <td>1</td>\n",
       "      <td>32</td>\n",
       "      <td>11</td>\n",
       "      <td>0</td>\n",
       "      <td>2014-10-10</td>\n",
       "      <td>...</td>\n",
       "      <td>0</td>\n",
       "      <td>190</td>\n",
       "      <td>0</td>\n",
       "      <td>0</td>\n",
       "      <td>1</td>\n",
       "      <td>1</td>\n",
       "      <td>1</td>\n",
       "      <td>0</td>\n",
       "      <td>0</td>\n",
       "      <td>0</td>\n",
       "    </tr>\n",
       "    <tr>\n",
       "      <th>129558</th>\n",
       "      <td>0.00</td>\n",
       "      <td>0.00</td>\n",
       "      <td>0.00</td>\n",
       "      <td>510</td>\n",
       "      <td>0</td>\n",
       "      <td>0</td>\n",
       "      <td>26</td>\n",
       "      <td>8</td>\n",
       "      <td>1</td>\n",
       "      <td>2014-10-10</td>\n",
       "      <td>...</td>\n",
       "      <td>0</td>\n",
       "      <td>1401</td>\n",
       "      <td>0</td>\n",
       "      <td>0</td>\n",
       "      <td>0</td>\n",
       "      <td>0</td>\n",
       "      <td>0</td>\n",
       "      <td>0</td>\n",
       "      <td>0</td>\n",
       "      <td>0</td>\n",
       "    </tr>\n",
       "    <tr>\n",
       "      <th>4901</th>\n",
       "      <td>5150.52</td>\n",
       "      <td>5150.52</td>\n",
       "      <td>10563.59</td>\n",
       "      <td>480</td>\n",
       "      <td>6</td>\n",
       "      <td>5</td>\n",
       "      <td>37</td>\n",
       "      <td>11</td>\n",
       "      <td>197</td>\n",
       "      <td>2014-10-10</td>\n",
       "      <td>...</td>\n",
       "      <td>0</td>\n",
       "      <td>1548</td>\n",
       "      <td>12</td>\n",
       "      <td>7</td>\n",
       "      <td>15</td>\n",
       "      <td>15</td>\n",
       "      <td>14</td>\n",
       "      <td>14</td>\n",
       "      <td>10</td>\n",
       "      <td>0</td>\n",
       "    </tr>\n",
       "    <tr>\n",
       "      <th>179298</th>\n",
       "      <td>39982.35</td>\n",
       "      <td>39982.35</td>\n",
       "      <td>82345.04</td>\n",
       "      <td>422</td>\n",
       "      <td>118</td>\n",
       "      <td>91</td>\n",
       "      <td>4</td>\n",
       "      <td>11</td>\n",
       "      <td>64</td>\n",
       "      <td>2014-10-10</td>\n",
       "      <td>...</td>\n",
       "      <td>0</td>\n",
       "      <td>2110</td>\n",
       "      <td>20</td>\n",
       "      <td>11</td>\n",
       "      <td>94</td>\n",
       "      <td>94</td>\n",
       "      <td>99</td>\n",
       "      <td>25</td>\n",
       "      <td>23</td>\n",
       "      <td>0</td>\n",
       "    </tr>\n",
       "  </tbody>\n",
       "</table>\n",
       "<p>5 rows × 33 columns</p>\n",
       "</div>"
      ],
      "text/plain": [
       "        amt_alipay  amt_alipay_njhs   amt_gmv  brand_id  cart_ipv  cart_uv  \\\n",
       "204814     4865.49          4865.49  29832.31       219         6        6   \n",
       "146784     1185.81          1185.81   3360.63       629         2        1   \n",
       "129558        0.00             0.00      0.00       510         0        0   \n",
       "4901       5150.52          5150.52  10563.59       480         6        5   \n",
       "179298    39982.35         39982.35  82345.04       422       118       91   \n",
       "\n",
       "        cate_id  cate_level_id  collect_uv       date       ...        \\\n",
       "204814       32             11          12 2014-10-10       ...         \n",
       "146784       32             11           0 2014-10-10       ...         \n",
       "129558       26              8           1 2014-10-10       ...         \n",
       "4901         37             11         197 2014-10-10       ...         \n",
       "179298        4             11          64 2014-10-10       ...         \n",
       "\n",
       "        store_code  supplier_id  tbk_pv_ipv  tbk_pv_uv  unum_alipay  \\\n",
       "204814           0         2062           0          0            3   \n",
       "146784           0          190           0          0            1   \n",
       "129558           0         1401           0          0            0   \n",
       "4901             0         1548          12          7           15   \n",
       "179298           0         2110          20         11           94   \n",
       "\n",
       "        unum_alipay_njhs  unum_gmv  ztc_pv_ipv  ztc_pv_uv  qty_alipay_jhs  \n",
       "204814                 3         4          76         44               0  \n",
       "146784                 1         1           0          0               0  \n",
       "129558                 0         0           0          0               0  \n",
       "4901                  15        14          14         10               0  \n",
       "179298                94        99          25         23               0  \n",
       "\n",
       "[5 rows x 33 columns]"
      ]
     },
     "execution_count": 10,
     "metadata": {},
     "output_type": "execute_result"
    }
   ],
   "source": [
    "records = pd.concat([item_global_records, item_local_records])\n",
    "records[\"qty_alipay_jhs\"] = records[\"qty_alipay\"] - records[\"qty_alipay_njhs\"]\n",
    "records.sort_index(by = [\"date\", \"store_code\"], inplace = True)\n",
    "records.head()"
   ]
  },
  {
   "cell_type": "code",
   "execution_count": 11,
   "metadata": {
    "collapsed": false
   },
   "outputs": [
    {
     "name": "stdout",
     "output_type": "stream",
     "text": [
      "963\n"
     ]
    }
   ],
   "source": [
    "item_size = len(records.item_id.unique())\n",
    "store_code_size = 6\n",
    "print item_size"
   ]
  },
  {
   "cell_type": "markdown",
   "metadata": {},
   "source": [
    "## 1.3 补偿数据"
   ]
  },
  {
   "cell_type": "code",
   "execution_count": 12,
   "metadata": {
    "collapsed": true
   },
   "outputs": [],
   "source": [
    "config_header = [\"item_id\", \"store_code\", \"a_b\"]"
   ]
  },
  {
   "cell_type": "code",
   "execution_count": 13,
   "metadata": {
    "collapsed": false
   },
   "outputs": [
    {
     "data": {
      "text/html": [
       "<div>\n",
       "<table border=\"1\" class=\"dataframe\">\n",
       "  <thead>\n",
       "    <tr style=\"text-align: right;\">\n",
       "      <th></th>\n",
       "      <th>item_id</th>\n",
       "      <th>store_code</th>\n",
       "      <th>a</th>\n",
       "      <th>b</th>\n",
       "    </tr>\n",
       "  </thead>\n",
       "  <tbody>\n",
       "    <tr>\n",
       "      <th>0</th>\n",
       "      <td>58452</td>\n",
       "      <td>0</td>\n",
       "      <td>46.38</td>\n",
       "      <td>11.86</td>\n",
       "    </tr>\n",
       "    <tr>\n",
       "      <th>1</th>\n",
       "      <td>36132</td>\n",
       "      <td>0</td>\n",
       "      <td>45.79</td>\n",
       "      <td>85.94</td>\n",
       "    </tr>\n",
       "    <tr>\n",
       "      <th>2</th>\n",
       "      <td>34092</td>\n",
       "      <td>0</td>\n",
       "      <td>43.65</td>\n",
       "      <td>83.86</td>\n",
       "    </tr>\n",
       "    <tr>\n",
       "      <th>3</th>\n",
       "      <td>62772</td>\n",
       "      <td>0</td>\n",
       "      <td>44.68</td>\n",
       "      <td>16.89</td>\n",
       "    </tr>\n",
       "    <tr>\n",
       "      <th>4</th>\n",
       "      <td>9597</td>\n",
       "      <td>0</td>\n",
       "      <td>41.04</td>\n",
       "      <td>17.70</td>\n",
       "    </tr>\n",
       "  </tbody>\n",
       "</table>\n",
       "</div>"
      ],
      "text/plain": [
       "   item_id  store_code      a      b\n",
       "0    58452           0  46.38  11.86\n",
       "1    36132           0  45.79  85.94\n",
       "2    34092           0  43.65  83.86\n",
       "3    62772           0  44.68  16.89\n",
       "4     9597           0  41.04  17.70"
      ]
     },
     "execution_count": 13,
     "metadata": {},
     "output_type": "execute_result"
    }
   ],
   "source": [
    "item_configs = pd.read_csv(config_filepath, header = None, names = config_header)\n",
    "func_a = lambda x : x.strip().split(\"_\")[0]\n",
    "func_b = lambda x : x.strip().split(\"_\")[1]\n",
    "item_configs[\"a\"] = item_configs[\"a_b\"].map(func_a).astype(float)\n",
    "item_configs[\"b\"] = item_configs[\"a_b\"].map(func_b).astype(float)\n",
    "item_configs[\"store_code\"] = item_configs[\"store_code\"].map(lambda x : 0 if x == \"all\" else int(x))\n",
    "item_configs.drop(\"a_b\", axis = 1, inplace = True)\n",
    "item_configs.head()"
   ]
  },
  {
   "cell_type": "markdown",
   "metadata": {},
   "source": [
    "# 2. 数据预处理"
   ]
  },
  {
   "cell_type": "code",
   "execution_count": 14,
   "metadata": {
    "collapsed": true
   },
   "outputs": [],
   "source": [
    "from datetime import date, datetime, timedelta\n",
    "def fill(df):\n",
    "    #特殊处理一下，保证val集是定长的\n",
    "    start_date = min(min(df.date), pd.to_datetime(date(2015,12,14)))\n",
    "    end_date = pd.to_datetime(date(2016,1,11))\n",
    "    len_date = (end_date - start_date).days\n",
    "    date_list = [start_date + timedelta(days = d) for d in range(len_date)]\n",
    "    date_list = date_list * 6\n",
    "    store_code_list = []\n",
    "    store_code_list.extend([0] * len_date)\n",
    "    store_code_list.extend([1] * len_date)\n",
    "    store_code_list.extend([2] * len_date)\n",
    "    store_code_list.extend([3] * len_date)\n",
    "    store_code_list.extend([4] * len_date)\n",
    "    store_code_list.extend([5] * len_date)\n",
    "    record_dict = {\"date\": date_list, \"store_code\": store_code_list}\n",
    "    new_df = pd.DataFrame(record_dict)\n",
    "    new_df = pd.merge(new_df, df, on = [\"date\", \"store_code\"], how = \"left\")\n",
    "    fill_value = {\"item_id\":df.item_id.median(),\"cate_id\":df.cate_id.median(),\\\n",
    "                  \"cate_level_id\":df.cate_level_id.median(),\"brand_id\":df.brand_id.median(),\\\n",
    "                  \"supplier_id\":df.supplier_id.median()}\n",
    "    new_df.fillna(fill_value, inplace = True)\n",
    "    new_df.fillna(0, inplace = True)\n",
    "    return new_df"
   ]
  },
  {
   "cell_type": "code",
   "execution_count": 15,
   "metadata": {
    "collapsed": false
   },
   "outputs": [
    {
     "data": {
      "text/html": [
       "<div>\n",
       "<table border=\"1\" class=\"dataframe\">\n",
       "  <thead>\n",
       "    <tr style=\"text-align: right;\">\n",
       "      <th></th>\n",
       "      <th>date</th>\n",
       "      <th>store_code</th>\n",
       "      <th>amt_alipay</th>\n",
       "      <th>amt_alipay_njhs</th>\n",
       "      <th>amt_gmv</th>\n",
       "      <th>brand_id</th>\n",
       "      <th>cart_ipv</th>\n",
       "      <th>cart_uv</th>\n",
       "      <th>cate_id</th>\n",
       "      <th>cate_level_id</th>\n",
       "      <th>...</th>\n",
       "      <th>ss_pv_uv</th>\n",
       "      <th>supplier_id</th>\n",
       "      <th>tbk_pv_ipv</th>\n",
       "      <th>tbk_pv_uv</th>\n",
       "      <th>unum_alipay</th>\n",
       "      <th>unum_alipay_njhs</th>\n",
       "      <th>unum_gmv</th>\n",
       "      <th>ztc_pv_ipv</th>\n",
       "      <th>ztc_pv_uv</th>\n",
       "      <th>qty_alipay_jhs</th>\n",
       "    </tr>\n",
       "  </thead>\n",
       "  <tbody>\n",
       "    <tr>\n",
       "      <th>0</th>\n",
       "      <td>2015-11-28</td>\n",
       "      <td>0</td>\n",
       "      <td>885.3</td>\n",
       "      <td>885.3</td>\n",
       "      <td>4578.87</td>\n",
       "      <td>390</td>\n",
       "      <td>0</td>\n",
       "      <td>0</td>\n",
       "      <td>39</td>\n",
       "      <td>12</td>\n",
       "      <td>...</td>\n",
       "      <td>0</td>\n",
       "      <td>1173</td>\n",
       "      <td>0</td>\n",
       "      <td>0</td>\n",
       "      <td>1</td>\n",
       "      <td>1</td>\n",
       "      <td>1</td>\n",
       "      <td>3</td>\n",
       "      <td>2</td>\n",
       "      <td>0</td>\n",
       "    </tr>\n",
       "    <tr>\n",
       "      <th>1</th>\n",
       "      <td>2015-11-29</td>\n",
       "      <td>0</td>\n",
       "      <td>0.0</td>\n",
       "      <td>0.0</td>\n",
       "      <td>0.00</td>\n",
       "      <td>390</td>\n",
       "      <td>1</td>\n",
       "      <td>1</td>\n",
       "      <td>39</td>\n",
       "      <td>12</td>\n",
       "      <td>...</td>\n",
       "      <td>0</td>\n",
       "      <td>1173</td>\n",
       "      <td>0</td>\n",
       "      <td>0</td>\n",
       "      <td>0</td>\n",
       "      <td>0</td>\n",
       "      <td>0</td>\n",
       "      <td>0</td>\n",
       "      <td>0</td>\n",
       "      <td>0</td>\n",
       "    </tr>\n",
       "    <tr>\n",
       "      <th>2</th>\n",
       "      <td>2015-11-30</td>\n",
       "      <td>0</td>\n",
       "      <td>885.3</td>\n",
       "      <td>885.3</td>\n",
       "      <td>4578.87</td>\n",
       "      <td>390</td>\n",
       "      <td>3</td>\n",
       "      <td>3</td>\n",
       "      <td>39</td>\n",
       "      <td>12</td>\n",
       "      <td>...</td>\n",
       "      <td>0</td>\n",
       "      <td>1173</td>\n",
       "      <td>0</td>\n",
       "      <td>0</td>\n",
       "      <td>1</td>\n",
       "      <td>1</td>\n",
       "      <td>1</td>\n",
       "      <td>0</td>\n",
       "      <td>0</td>\n",
       "      <td>0</td>\n",
       "    </tr>\n",
       "    <tr>\n",
       "      <th>3</th>\n",
       "      <td>2015-12-01</td>\n",
       "      <td>0</td>\n",
       "      <td>0.0</td>\n",
       "      <td>0.0</td>\n",
       "      <td>0.00</td>\n",
       "      <td>390</td>\n",
       "      <td>0</td>\n",
       "      <td>0</td>\n",
       "      <td>39</td>\n",
       "      <td>12</td>\n",
       "      <td>...</td>\n",
       "      <td>0</td>\n",
       "      <td>1173</td>\n",
       "      <td>0</td>\n",
       "      <td>0</td>\n",
       "      <td>0</td>\n",
       "      <td>0</td>\n",
       "      <td>0</td>\n",
       "      <td>0</td>\n",
       "      <td>0</td>\n",
       "      <td>0</td>\n",
       "    </tr>\n",
       "    <tr>\n",
       "      <th>4</th>\n",
       "      <td>2015-12-02</td>\n",
       "      <td>0</td>\n",
       "      <td>0.0</td>\n",
       "      <td>0.0</td>\n",
       "      <td>0.00</td>\n",
       "      <td>390</td>\n",
       "      <td>0</td>\n",
       "      <td>0</td>\n",
       "      <td>39</td>\n",
       "      <td>12</td>\n",
       "      <td>...</td>\n",
       "      <td>0</td>\n",
       "      <td>1173</td>\n",
       "      <td>0</td>\n",
       "      <td>0</td>\n",
       "      <td>0</td>\n",
       "      <td>0</td>\n",
       "      <td>0</td>\n",
       "      <td>0</td>\n",
       "      <td>0</td>\n",
       "      <td>0</td>\n",
       "    </tr>\n",
       "  </tbody>\n",
       "</table>\n",
       "<p>5 rows × 33 columns</p>\n",
       "</div>"
      ],
      "text/plain": [
       "        date  store_code  amt_alipay  amt_alipay_njhs  amt_gmv  brand_id  \\\n",
       "0 2015-11-28           0       885.3            885.3  4578.87       390   \n",
       "1 2015-11-29           0         0.0              0.0     0.00       390   \n",
       "2 2015-11-30           0       885.3            885.3  4578.87       390   \n",
       "3 2015-12-01           0         0.0              0.0     0.00       390   \n",
       "4 2015-12-02           0         0.0              0.0     0.00       390   \n",
       "\n",
       "   cart_ipv  cart_uv  cate_id  cate_level_id       ...        ss_pv_uv  \\\n",
       "0         0        0       39             12       ...               0   \n",
       "1         1        1       39             12       ...               0   \n",
       "2         3        3       39             12       ...               0   \n",
       "3         0        0       39             12       ...               0   \n",
       "4         0        0       39             12       ...               0   \n",
       "\n",
       "   supplier_id  tbk_pv_ipv  tbk_pv_uv  unum_alipay  unum_alipay_njhs  \\\n",
       "0         1173           0          0            1                 1   \n",
       "1         1173           0          0            0                 0   \n",
       "2         1173           0          0            1                 1   \n",
       "3         1173           0          0            0                 0   \n",
       "4         1173           0          0            0                 0   \n",
       "\n",
       "   unum_gmv  ztc_pv_ipv  ztc_pv_uv  qty_alipay_jhs  \n",
       "0         1           3          2               0  \n",
       "1         0           0          0               0  \n",
       "2         1           0          0               0  \n",
       "3         0           0          0               0  \n",
       "4         0           0          0               0  \n",
       "\n",
       "[5 rows x 33 columns]"
      ]
     },
     "execution_count": 15,
     "metadata": {},
     "output_type": "execute_result"
    }
   ],
   "source": [
    "records_filled = records.copy().groupby([\"item_id\"], group_keys = False).apply(fill)\n",
    "records_filled.sort_index(by = [\"item_id\", \"store_code\", \"date\"], inplace = True)\n",
    "records_filled.head()"
   ]
  },
  {
   "cell_type": "markdown",
   "metadata": {},
   "source": [
    "# 3. 特征提取"
   ]
  },
  {
   "cell_type": "markdown",
   "metadata": {},
   "source": [
    "## 3.1 时间特征"
   ]
  },
  {
   "cell_type": "code",
   "execution_count": 16,
   "metadata": {
    "collapsed": true
   },
   "outputs": [],
   "source": [
    "dt = pd.DatetimeIndex(records_filled[\"date\"])"
   ]
  },
  {
   "cell_type": "code",
   "execution_count": 17,
   "metadata": {
    "collapsed": false
   },
   "outputs": [],
   "source": [
    "records_filled[\"date\"] = dt.date\n",
    "records_filled[\"year\"] = dt.year\n",
    "records_filled[\"month\"] = dt.month\n",
    "records_filled[\"day\"] = dt.day\n",
    "records_filled[\"dow\"] = dt.dayofweek\n",
    "records_filled[\"woy\"] = dt.weekofyear"
   ]
  },
  {
   "cell_type": "code",
   "execution_count": 18,
   "metadata": {
    "collapsed": true
   },
   "outputs": [],
   "source": [
    "def is_peek(year, month, day):\n",
    "    if (month == 11 and day == 11) or (month == 12 and day == 12):\n",
    "        return 1\n",
    "    else:\n",
    "        return 0"
   ]
  },
  {
   "cell_type": "code",
   "execution_count": 19,
   "metadata": {
    "collapsed": true
   },
   "outputs": [],
   "source": [
    "def is_chinese_new_year(year, month, day):\n",
    "    if month == 2 and day in [17,18,19,20,21,22]:\n",
    "        return 1\n",
    "    else:\n",
    "        return 0"
   ]
  },
  {
   "cell_type": "code",
   "execution_count": 20,
   "metadata": {
    "collapsed": true
   },
   "outputs": [],
   "source": [
    "def promotion_type(year, month, day):\n",
    "    if year == 2015 and month == 6 and day in [16, 17, 18]: ##616大促销\n",
    "        return 1\n",
    "    if year == 2015 and month == 8 and day == 13: ##813大促销\n",
    "        return 2\n",
    "    if year == 2015 and month == 9 and day == 9: ##99大促销\n",
    "        return 3         \n",
    "    if year == 2015 and month == 9 and day in [25, 26, 27]: ##925促销\n",
    "        return 4\n",
    "    if month == 11 and day == 11: ##双11\n",
    "        return 5\n",
    "    if month == 12 and day == 12: ##双12\n",
    "        return 6\n",
    "    return 0"
   ]
  },
  {
   "cell_type": "code",
   "execution_count": 21,
   "metadata": {
    "collapsed": true
   },
   "outputs": [],
   "source": [
    "def holiday_type(year, month, day):\n",
    "    if month == 1 and day in [1, 2, 3]: ##元旦\n",
    "        return 1\n",
    "    if month == 4 and day in [5, 6, 7]: ##清明节\n",
    "        return 2\n",
    "    if month == 5 and day in [1, 2, 3]: ##五一劳动节\n",
    "        return 3\n",
    "    if year == 2015 and month == 6 and day in [20, 21, 22]: ##端午节，父亲节\n",
    "        return 4      \n",
    "    if year == 2015 and month == 9 and day in [26, 27]: ##中秋节\n",
    "        return 5   \n",
    "    if month == 10 and day in [1, 2, 3, 4, 5, 6, 7]: ##国庆节\n",
    "        return 6\n",
    "    return 0"
   ]
  },
  {
   "cell_type": "code",
   "execution_count": 22,
   "metadata": {
    "collapsed": false
   },
   "outputs": [],
   "source": [
    "def special_day_type(year, month, day):\n",
    "    if month == 2 and day == 14: ##情人节\n",
    "        return 1    \n",
    "    if month == 3 and day == 8: ##妇女节\n",
    "        return 2    \n",
    "    if month == 3 and day == 15: ##白色情人节\n",
    "        return 3 \n",
    "    if month == 4 and day == 1: ##愚人节\n",
    "        return 4 \n",
    "    if year == 2015 and month == 5 and day == 10: ##母亲节\n",
    "        return 5     \n",
    "    if month == 6 and day == 1: ##儿童节\n",
    "        return 6        \n",
    "    if year == 2015 and month == 8 and day == 20: ##七夕节\n",
    "        return 7       \n",
    "    if month == 12 and day in [24, 25]: ##圣诞节\n",
    "        return 8 \n",
    "    return 0"
   ]
  },
  {
   "cell_type": "code",
   "execution_count": 23,
   "metadata": {
    "collapsed": true
   },
   "outputs": [],
   "source": [
    "def is_before_special(year, month, day):\n",
    "    if month == 2 and day in [10,11,12,13]: ##情人节前\n",
    "        return 1\n",
    "    if month == 3 and day in [4,5,6,7]: ##妇女节前\n",
    "        return 2\n",
    "    if month == 8 and day in [16,17,18,19]: ##七夕节前\n",
    "        return 3\n",
    "    if month == 12 and day in [20,21,22,23]: ##圣诞节前\n",
    "        return 3\n",
    "    return 0"
   ]
  },
  {
   "cell_type": "code",
   "execution_count": 24,
   "metadata": {
    "collapsed": false
   },
   "outputs": [],
   "source": [
    "records_filled[\"is_peek\"] = records_filled.date.map(lambda x : is_peek(x.year, x.month, x.day))\n",
    "records_filled[\"is_chinese_new_year\"] = records_filled.date.map(lambda x : is_chinese_new_year(x.year, x.month, x.day))\n",
    "records_filled[\"promotion_type\"] = records_filled.date.map(lambda x : promotion_type(x.year, x.month, x.day))\n",
    "records_filled[\"holiday_type\"] = records_filled.date.map(lambda x : holiday_type(x.year, x.month, x.day))\n",
    "records_filled[\"special_day_type\"] = records_filled.date.map(lambda x : special_day_type(x.year, x.month, x.day))\n",
    "# records_filled[\"is_before_special\"] = records_filled.date.map(lambda x : is_before_special(x.year, x.month, x.day))"
   ]
  },
  {
   "cell_type": "code",
   "execution_count": 25,
   "metadata": {
    "collapsed": true
   },
   "outputs": [],
   "source": [
    "# item_start_date_dict = records_filled.groupby([\"item_id\"]).apply(lambda x: min(x.date)).to_dict()\n",
    "# records_filled[\"start_date\"] = records_filled.apply(lambda x : item_start_date_dict[x[\"item_id\"]], axis = 1)"
   ]
  },
  {
   "cell_type": "code",
   "execution_count": 26,
   "metadata": {
    "collapsed": false
   },
   "outputs": [],
   "source": [
    "# records_filled[\"start_day\"] = records_filled.apply(lambda x: (x[\"date\"] - x[\"start_date\"]).days, axis = 1)"
   ]
  },
  {
   "cell_type": "code",
   "execution_count": 27,
   "metadata": {
    "collapsed": true
   },
   "outputs": [],
   "source": [
    "# def start_day(x):\n",
    "#     y = x - date(2014,10,10)\n",
    "#     return y.days"
   ]
  },
  {
   "cell_type": "code",
   "execution_count": 28,
   "metadata": {
    "collapsed": false
   },
   "outputs": [],
   "source": [
    "# records_filled[\"startday\"] = records_filled[\"date\"].map(start_day)"
   ]
  },
  {
   "cell_type": "code",
   "execution_count": 29,
   "metadata": {
    "collapsed": true
   },
   "outputs": [],
   "source": [
    "# ##reset_index\n",
    "# records_filled.reset_index(inplace=True)\n",
    "# records_filled.sort_index(by=[\"item_id\",\"store_code\",\"start_day\"],inplace=True)"
   ]
  },
  {
   "cell_type": "code",
   "execution_count": 30,
   "metadata": {
    "collapsed": true
   },
   "outputs": [],
   "source": [
    "##得到cunsum的估计值\n",
    "# records_filled[\"qty_alipay_njhs_cumsum\"] = records_filled.groupby([\"item_id\",\"store_code\"]).qty_alipay_njhs.cumsum()"
   ]
  },
  {
   "cell_type": "code",
   "execution_count": 31,
   "metadata": {
    "collapsed": false
   },
   "outputs": [],
   "source": [
    "# records_filled[\"past_avg_njhs\"] = records_filled.apply(lambda x : 1.0 * x[\"qty_alipay_njhs_cumsum\"] / (x[\"start_day\"]+1), axis = 1)"
   ]
  },
  {
   "cell_type": "markdown",
   "metadata": {
    "collapsed": false
   },
   "source": [
    "## 3.2 全局特征"
   ]
  },
  {
   "cell_type": "code",
   "execution_count": 32,
   "metadata": {
    "collapsed": false
   },
   "outputs": [],
   "source": [
    "# overall_njhs_mean_dict = records_filled.groupby([\"item_id\", \"store_code\"]).qty_alipay_njhs.mean().to_dict()\n",
    "# overall_njhs_min_dict = records_filled.groupby([\"item_id\", \"store_code\"]).qty_alipay_njhs.min().to_dict()\n",
    "# overall_njhs_max_dict = records_filled.groupby([\"item_id\", \"store_code\"]).qty_alipay_njhs.max().to_dict()\n",
    "# overall_njhs_median_dict = records_filled.groupby([\"item_id\", \"store_code\"]).qty_alipay_njhs.median().to_dict()\n",
    "\n",
    "# records_filled[\"overall_njhs_mean\"] = records_filled.apply(lambda x : overall_njhs_mean_dict[(x[\"item_id\"], x[\"store_code\"])], axis = 1)\n",
    "# records_filled[\"overall_njhs_min\"] = records_filled.apply(lambda x : overall_njhs_min_dict[(x[\"item_id\"], x[\"store_code\"])], axis = 1)\n",
    "# records_filled[\"overall_njhs_max\"] = records_filled.apply(lambda x : overall_njhs_max_dict[(x[\"item_id\"], x[\"store_code\"])], axis = 1)\n",
    "# records_filled[\"overall_njhs_median\"] = records_filled.apply(lambda x : overall_njhs_median_dict[(x[\"item_id\"], x[\"store_code\"])], axis = 1)"
   ]
  },
  {
   "cell_type": "markdown",
   "metadata": {},
   "source": [
    "## 3.3 局部特征"
   ]
  },
  {
   "cell_type": "code",
   "execution_count": 33,
   "metadata": {
    "collapsed": false
   },
   "outputs": [],
   "source": [
    "# month_njhs_median_dict = records_filled.groupby([\"item_id\", \"store_code\", \"month\"]).qty_alipay_njhs.median().to_dict()\n",
    "# records_filled[\"current_month_njhs_median\"] = records_filled.apply(lambda x : month_njhs_median_dict[(x[\"item_id\"],x[\"store_code\"], x[\"month\"])], axis = 1)"
   ]
  },
  {
   "cell_type": "markdown",
   "metadata": {},
   "source": [
    "## 3.4 历史特征"
   ]
  },
  {
   "cell_type": "code",
   "execution_count": 34,
   "metadata": {
    "collapsed": false
   },
   "outputs": [],
   "source": [
    "records_filled.set_index([\"item_id\", \"date\"], inplace = True)"
   ]
  },
  {
   "cell_type": "code",
   "execution_count": 35,
   "metadata": {
    "collapsed": true
   },
   "outputs": [],
   "source": [
    "def add_recent_sale(df, window_size, cols):\n",
    "    item_series_len = df.shape[0]\n",
    "    window_size = min(window_size + 1, item_series_len)\n",
    "    for w in range(1, window_size):\n",
    "        item_series = [0] * w\n",
    "        item_series.extend(df.qty_alipay[0:-w])\n",
    "        df[cols[w-1]] = item_series\n",
    "    return df"
   ]
  },
  {
   "cell_type": "code",
   "execution_count": 36,
   "metadata": {
    "collapsed": false
   },
   "outputs": [],
   "source": [
    "pre_sales_cols = [\"sale_pre_\"+str(i) for i in range(1,31)]\n",
    "records_filled = records_filled.groupby(level = [\"item_id\"]).apply(lambda x : add_recent_sale(x, 30, pre_sales_cols))"
   ]
  },
  {
   "cell_type": "code",
   "execution_count": 37,
   "metadata": {
    "collapsed": true
   },
   "outputs": [],
   "source": [
    "def add_recent_njhs(df, window_size, cols):\n",
    "    item_series_len = df.shape[0]\n",
    "    window_size = min(window_size + 1, item_series_len)\n",
    "    for w in range(1, window_size):\n",
    "        item_series = [df.qty_alipay_njhs[0]] * w\n",
    "        item_series.extend(df.qty_alipay_njhs[0:-w])\n",
    "        df[cols[w-1]] = item_series\n",
    "    return df"
   ]
  },
  {
   "cell_type": "code",
   "execution_count": 38,
   "metadata": {
    "collapsed": false
   },
   "outputs": [],
   "source": [
    "pre_njhs_cols = [\"njhs_pre_\"+str(i) for i in range(1,31)]\n",
    "records_filled = records_filled.groupby(level = [\"item_id\"]).apply(lambda x : add_recent_njhs(x, 30, pre_njhs_cols))"
   ]
  },
  {
   "cell_type": "code",
   "execution_count": 39,
   "metadata": {
    "collapsed": true
   },
   "outputs": [],
   "source": [
    "def add_recent_jhs(df, window_size, cols):\n",
    "    item_series_len = df.shape[0]\n",
    "    window_size = min(window_size + 1, item_series_len)\n",
    "    for w in range(1, window_size):\n",
    "        item_series = [df.qty_alipay_jhs[0]] * w\n",
    "        item_series.extend(df.qty_alipay_jhs[0:-w])\n",
    "        df[cols[w-1]] = item_series\n",
    "    return df"
   ]
  },
  {
   "cell_type": "code",
   "execution_count": 40,
   "metadata": {
    "collapsed": true
   },
   "outputs": [],
   "source": [
    "pre_jhs_cols = [\"jhs_pre_\"+str(i) for i in range(1,31)]\n",
    "records_filled = records_filled.groupby(level = [\"item_id\"]).apply(lambda x : add_recent_jhs(x, 30, pre_jhs_cols))"
   ]
  },
  {
   "cell_type": "code",
   "execution_count": 41,
   "metadata": {
    "collapsed": true
   },
   "outputs": [],
   "source": [
    "records_filled.reset_index(inplace = True)"
   ]
  },
  {
   "cell_type": "code",
   "execution_count": 42,
   "metadata": {
    "collapsed": true
   },
   "outputs": [],
   "source": [
    "records_filled[\"recent_30_sale\"] = records_filled[pre_sales_cols].sum(axis = 1)\n",
    "records_filled[\"recent_30_njhs\"] = records_filled[pre_njhs_cols].sum(axis = 1)\n",
    "records_filled[\"recent_30_jhs\"] = records_filled[pre_jhs_cols].sum(axis = 1)"
   ]
  },
  {
   "cell_type": "code",
   "execution_count": 43,
   "metadata": {
    "collapsed": false
   },
   "outputs": [],
   "source": [
    "# records_filled[\"recent_30_njhs_median\"] = records_filled[pre_njhs_cols].apply(lambda x: np.median(x), axis = 1)"
   ]
  },
  {
   "cell_type": "code",
   "execution_count": 44,
   "metadata": {
    "collapsed": true
   },
   "outputs": [],
   "source": [
    "# records_filled[\"recent_jhs_freq\"] = records_filled[pre_jhs_cols].apply(lambda x: 1.0 * np.sum(x[x > 0]) / 30, axis = 1)"
   ]
  },
  {
   "cell_type": "code",
   "execution_count": 45,
   "metadata": {
    "collapsed": true
   },
   "outputs": [],
   "source": [
    "# records_filled[\"recent_njhs_njh_ratio\"] = records_filled.apply(lambda x: 1.0 * (x[\"recent_30_njhs\"] + 1) / (x[\"recent_30_jhs\"] + 1), axis = 1)"
   ]
  },
  {
   "cell_type": "code",
   "execution_count": 46,
   "metadata": {
    "collapsed": false
   },
   "outputs": [
    {
     "data": {
      "text/html": [
       "<div>\n",
       "<table border=\"1\" class=\"dataframe\">\n",
       "  <thead>\n",
       "    <tr style=\"text-align: right;\">\n",
       "      <th></th>\n",
       "      <th>item_id</th>\n",
       "      <th>date</th>\n",
       "      <th>store_code</th>\n",
       "      <th>amt_alipay</th>\n",
       "      <th>amt_alipay_njhs</th>\n",
       "      <th>amt_gmv</th>\n",
       "      <th>brand_id</th>\n",
       "      <th>cart_ipv</th>\n",
       "      <th>cart_uv</th>\n",
       "      <th>cate_id</th>\n",
       "      <th>...</th>\n",
       "      <th>jhs_pre_24</th>\n",
       "      <th>jhs_pre_25</th>\n",
       "      <th>jhs_pre_26</th>\n",
       "      <th>jhs_pre_27</th>\n",
       "      <th>jhs_pre_28</th>\n",
       "      <th>jhs_pre_29</th>\n",
       "      <th>jhs_pre_30</th>\n",
       "      <th>recent_30_sale</th>\n",
       "      <th>recent_30_njhs</th>\n",
       "      <th>recent_30_jhs</th>\n",
       "    </tr>\n",
       "  </thead>\n",
       "  <tbody>\n",
       "    <tr>\n",
       "      <th>264</th>\n",
       "      <td>132</td>\n",
       "      <td>2014-10-10</td>\n",
       "      <td>0</td>\n",
       "      <td>0</td>\n",
       "      <td>0</td>\n",
       "      <td>0</td>\n",
       "      <td>203</td>\n",
       "      <td>0</td>\n",
       "      <td>0</td>\n",
       "      <td>18</td>\n",
       "      <td>...</td>\n",
       "      <td>0</td>\n",
       "      <td>0</td>\n",
       "      <td>0</td>\n",
       "      <td>0</td>\n",
       "      <td>0</td>\n",
       "      <td>0</td>\n",
       "      <td>0</td>\n",
       "      <td>0</td>\n",
       "      <td>0</td>\n",
       "      <td>0</td>\n",
       "    </tr>\n",
       "    <tr>\n",
       "      <th>722</th>\n",
       "      <td>132</td>\n",
       "      <td>2014-10-10</td>\n",
       "      <td>1</td>\n",
       "      <td>0</td>\n",
       "      <td>0</td>\n",
       "      <td>0</td>\n",
       "      <td>203</td>\n",
       "      <td>0</td>\n",
       "      <td>0</td>\n",
       "      <td>18</td>\n",
       "      <td>...</td>\n",
       "      <td>0</td>\n",
       "      <td>0</td>\n",
       "      <td>0</td>\n",
       "      <td>0</td>\n",
       "      <td>0</td>\n",
       "      <td>0</td>\n",
       "      <td>0</td>\n",
       "      <td>4</td>\n",
       "      <td>4</td>\n",
       "      <td>0</td>\n",
       "    </tr>\n",
       "    <tr>\n",
       "      <th>1180</th>\n",
       "      <td>132</td>\n",
       "      <td>2014-10-10</td>\n",
       "      <td>2</td>\n",
       "      <td>0</td>\n",
       "      <td>0</td>\n",
       "      <td>0</td>\n",
       "      <td>203</td>\n",
       "      <td>0</td>\n",
       "      <td>0</td>\n",
       "      <td>18</td>\n",
       "      <td>...</td>\n",
       "      <td>0</td>\n",
       "      <td>0</td>\n",
       "      <td>0</td>\n",
       "      <td>0</td>\n",
       "      <td>0</td>\n",
       "      <td>0</td>\n",
       "      <td>0</td>\n",
       "      <td>0</td>\n",
       "      <td>0</td>\n",
       "      <td>0</td>\n",
       "    </tr>\n",
       "    <tr>\n",
       "      <th>1638</th>\n",
       "      <td>132</td>\n",
       "      <td>2014-10-10</td>\n",
       "      <td>3</td>\n",
       "      <td>0</td>\n",
       "      <td>0</td>\n",
       "      <td>0</td>\n",
       "      <td>203</td>\n",
       "      <td>0</td>\n",
       "      <td>0</td>\n",
       "      <td>18</td>\n",
       "      <td>...</td>\n",
       "      <td>0</td>\n",
       "      <td>0</td>\n",
       "      <td>0</td>\n",
       "      <td>0</td>\n",
       "      <td>0</td>\n",
       "      <td>0</td>\n",
       "      <td>0</td>\n",
       "      <td>2</td>\n",
       "      <td>2</td>\n",
       "      <td>0</td>\n",
       "    </tr>\n",
       "    <tr>\n",
       "      <th>2096</th>\n",
       "      <td>132</td>\n",
       "      <td>2014-10-10</td>\n",
       "      <td>4</td>\n",
       "      <td>0</td>\n",
       "      <td>0</td>\n",
       "      <td>0</td>\n",
       "      <td>203</td>\n",
       "      <td>0</td>\n",
       "      <td>0</td>\n",
       "      <td>18</td>\n",
       "      <td>...</td>\n",
       "      <td>0</td>\n",
       "      <td>0</td>\n",
       "      <td>0</td>\n",
       "      <td>0</td>\n",
       "      <td>0</td>\n",
       "      <td>0</td>\n",
       "      <td>0</td>\n",
       "      <td>2</td>\n",
       "      <td>2</td>\n",
       "      <td>0</td>\n",
       "    </tr>\n",
       "  </tbody>\n",
       "</table>\n",
       "<p>5 rows × 136 columns</p>\n",
       "</div>"
      ],
      "text/plain": [
       "      item_id       date  store_code  amt_alipay  amt_alipay_njhs  amt_gmv  \\\n",
       "264       132 2014-10-10           0           0                0        0   \n",
       "722       132 2014-10-10           1           0                0        0   \n",
       "1180      132 2014-10-10           2           0                0        0   \n",
       "1638      132 2014-10-10           3           0                0        0   \n",
       "2096      132 2014-10-10           4           0                0        0   \n",
       "\n",
       "      brand_id  cart_ipv  cart_uv  cate_id      ...        jhs_pre_24  \\\n",
       "264        203         0        0       18      ...                 0   \n",
       "722        203         0        0       18      ...                 0   \n",
       "1180       203         0        0       18      ...                 0   \n",
       "1638       203         0        0       18      ...                 0   \n",
       "2096       203         0        0       18      ...                 0   \n",
       "\n",
       "      jhs_pre_25  jhs_pre_26  jhs_pre_27  jhs_pre_28  jhs_pre_29  jhs_pre_30  \\\n",
       "264            0           0           0           0           0           0   \n",
       "722            0           0           0           0           0           0   \n",
       "1180           0           0           0           0           0           0   \n",
       "1638           0           0           0           0           0           0   \n",
       "2096           0           0           0           0           0           0   \n",
       "\n",
       "      recent_30_sale  recent_30_njhs  recent_30_jhs  \n",
       "264                0               0              0  \n",
       "722                4               4              0  \n",
       "1180               0               0              0  \n",
       "1638               2               2              0  \n",
       "2096               2               2              0  \n",
       "\n",
       "[5 rows x 136 columns]"
      ]
     },
     "execution_count": 46,
     "metadata": {},
     "output_type": "execute_result"
    }
   ],
   "source": [
    "records_final = records_filled.copy()\n",
    "records_final.fillna(0, inplace = True)\n",
    "records_final[\"store_code\"].map(lambda x : int(x))\n",
    "records_final.sort_index(by = [\"date\", \"item_id\", \"store_code\"], inplace = True)\n",
    "records_final.head()"
   ]
  },
  {
   "cell_type": "markdown",
   "metadata": {},
   "source": [
    "# 4. 构建Train, Validation, Test"
   ]
  },
  {
   "cell_type": "code",
   "execution_count": 47,
   "metadata": {
    "collapsed": false
   },
   "outputs": [],
   "source": [
    "feature_cols = [ \"item_id\", \"store_code\", \"year\", \"month\", \"day\", \"dow\", \"woy\", \n",
    "                 \"is_peek\", \"is_chinese_new_year\", \"promotion_type\", \"holiday_type\", \"special_day_type\",\n",
    "                 \"cate_level_id\", \"cate_id\", \"brand_id\", \"supplier_id\",\n",
    "                 \"recent_30_sale\",\n",
    "                 \"njhs_pre_1\", \"njhs_pre_2\", \"njhs_pre_3\", \"njhs_pre_4\", \"njhs_pre_5\", \"njhs_pre_6\", \"njhs_pre_7\",\n",
    "                 \"njhs_pre_8\", \"njhs_pre_9\", \"njhs_pre_10\", \"njhs_pre_11\", \"njhs_pre_12\", \"njhs_pre_13\", \"njhs_pre_14\"]\n",
    "\n",
    "target_cols = [\"qty_alipay_njhs\"]\n",
    "\n",
    "pre_njhs_index = feature_cols.index(\"njhs_pre_1\")\n",
    "recent_30_sale_index = feature_cols.index(\"recent_30_sale\")\n",
    "# recent_30_njhs_median_index = feature_cols.index(\"recent_30_njhs_median\")\n",
    "# past_avg_njhs_index = feature_cols.index(\"past_avg_njhs\")\n",
    "# recent_jhs_freq_index = feature_cols.index(\"recent_jhs_freq\")\n",
    "# recent_njhs_njh_ratio_index = feature_cols.index(\"recent_njhs_njh_ratio\")\n",
    "# recent_14_njhs_index = feature_cols.index(\"recent_14_njhs\")"
   ]
  },
  {
   "cell_type": "code",
   "execution_count": 48,
   "metadata": {
    "collapsed": true
   },
   "outputs": [],
   "source": [
    "def prepare_data(datas, cols, has_label = True):\n",
    "    X = datas[cols].as_matrix()\n",
    "    if has_label:\n",
    "        y = datas[\"qty_alipay_njhs\"].as_matrix()\n",
    "        return X, y\n",
    "    else:\n",
    "        return X"
   ]
  },
  {
   "cell_type": "code",
   "execution_count": 49,
   "metadata": {
    "collapsed": true
   },
   "outputs": [],
   "source": [
    "def get_train_val_test(datas):\n",
    "    cutoff_day1 = date(2015,12,13)\n",
    "    cutoff_day2 = date(2015,12,27)\n",
    "    train = datas[datas.date <= cutoff_day1]\n",
    "    val = datas[(datas.date > cutoff_day1) & ((datas.date <= cutoff_day2))]\n",
    "    test = datas[datas.date > cutoff_day2]\n",
    "    return train, val, test"
   ]
  },
  {
   "cell_type": "code",
   "execution_count": 50,
   "metadata": {
    "collapsed": false
   },
   "outputs": [],
   "source": [
    "train, val, test = get_train_val_test(records_final)"
   ]
  },
  {
   "cell_type": "code",
   "execution_count": 51,
   "metadata": {
    "collapsed": false
   },
   "outputs": [],
   "source": [
    "X_all = prepare_data(records_final, feature_cols, False)\n",
    "X_train, y_train = prepare_data(train, feature_cols)\n",
    "X_val, y_val = prepare_data(val, feature_cols)\n",
    "X_test = prepare_data(test, feature_cols, False)"
   ]
  },
  {
   "cell_type": "code",
   "execution_count": 52,
   "metadata": {
    "collapsed": false
   },
   "outputs": [],
   "source": [
    "import pickle\n",
    "from sklearn import preprocessing\n",
    "\n",
    "les = []\n",
    "category_feature_len = 16\n",
    "for col in range(category_feature_len):\n",
    "    le = preprocessing.LabelEncoder()\n",
    "    le.fit(X_all[:, col])\n",
    "    les.append(le)\n",
    "    X_train[:, col] = le.transform(X_train[:, col])\n",
    "    X_val[:, col] = le.transform(X_val[:, col])\n",
    "    X_test[:, col] = le.transform(X_test[:, col])\n",
    "    \n",
    "X_train = X_train.astype(int)\n",
    "X_val = X_val.astype(int)\n",
    "X_test = X_test.astype(int)"
   ]
  },
  {
   "cell_type": "code",
   "execution_count": 53,
   "metadata": {
    "collapsed": false
   },
   "outputs": [
    {
     "name": "stdout",
     "output_type": "stream",
     "text": [
      "training size: 1307124\n",
      "validation size: 80892\n",
      "test size: 80892\n",
      "feature size: 31\n"
     ]
    }
   ],
   "source": [
    "print \"training size: \" + str(len(X_train))\n",
    "print \"validation size: \" + str(len(X_val))\n",
    "print \"test size: \" + str(len(X_test))\n",
    "print \"feature size: \" + str(len(X_train[0]))"
   ]
  },
  {
   "cell_type": "markdown",
   "metadata": {},
   "source": [
    "# 5. 模型"
   ]
  },
  {
   "cell_type": "code",
   "execution_count": 54,
   "metadata": {
    "collapsed": true
   },
   "outputs": [],
   "source": [
    "import xgboost as xgb"
   ]
  },
  {
   "cell_type": "code",
   "execution_count": 55,
   "metadata": {
    "collapsed": true
   },
   "outputs": [],
   "source": [
    "def prepare_cost(X, item_configs, les):\n",
    "    item_id_list = [int(val) for val in les[0].inverse_transform(X[:, 0])]\n",
    "    store_code_list = [int(val) for val in les[1].inverse_transform(X[:, 1])]\n",
    "    dummy_dict = {\"item_id\": item_id_list, \"store_code\": store_code_list}\n",
    "    df = pd.DataFrame(dummy_dict)\n",
    "    new_df = pd.merge(df, item_configs, on = [\"item_id\", \"store_code\"], how = \"left\")\n",
    "    return new_df['a'].as_matrix(), new_df['b'].as_matrix()"
   ]
  },
  {
   "cell_type": "code",
   "execution_count": 56,
   "metadata": {
    "collapsed": true
   },
   "outputs": [],
   "source": [
    "def get_item_cost(y_pred, y_true, a, b):\n",
    "    sum_pred = np.sum(y_pred)\n",
    "    sum_true = np.sum(y_true)\n",
    "    cost = a * max(sum_true - sum_pred, 0) + b * max(sum_pred - sum_true, 0)\n",
    "    return cost"
   ]
  },
  {
   "cell_type": "code",
   "execution_count": 57,
   "metadata": {
    "collapsed": false
   },
   "outputs": [],
   "source": [
    "cost_a_train, cost_b_train = prepare_cost(X_train, item_configs, les)\n",
    "cost_a_val, cost_b_val = prepare_cost(X_val, item_configs, les)\n",
    "cost_a_test, cost_b_test = prepare_cost(X_test, item_configs, les)\n",
    "cost_infos = [cost_a_train, cost_b_train, cost_a_val, cost_b_val, cost_a_test, cost_b_test]"
   ]
  },
  {
   "cell_type": "code",
   "execution_count": 62,
   "metadata": {
    "collapsed": true
   },
   "outputs": [],
   "source": [
    "class XGBoost(object):  \n",
    "    \n",
    "    def __init__(self, X_train, y_train, X_val, y_val, cost_infos):\n",
    "\n",
    "        self.cost_a_train = cost_infos[0]\n",
    "        self.cost_b_train = cost_infos[1]\n",
    "        self.cost_a_val = cost_infos[2]\n",
    "        self.cost_b_val = cost_infos[3]\n",
    "\n",
    "        dtrain = xgb.DMatrix(X_train, label = y_train)\n",
    "        dval = xgb.DMatrix(X_val, label = y_val)\n",
    "        evallist = [(dval,'eval')]\n",
    "        param = {'nthread': -1,\n",
    "                 'max_depth': 7,\n",
    "                 'eta': 0.03,\n",
    "                 'silent': 1,\n",
    "                 'min_child_weight': 3,\n",
    "                 'colsample_bytree': 0.7,\n",
    "                 'subsample': 0.7}\n",
    "        num_round = 10\n",
    "        \n",
    "        def obj(y_pred, dtrain):\n",
    "            y_true = dtrain.get_label()\n",
    "#             print '----'\n",
    "#             print y_true[0:10]\n",
    "#             print y_pred[0:10]\n",
    "#             print self.cost_a_train[0:10]\n",
    "#             print self.cost_b_train[0:10]\n",
    "#             print '----'\n",
    "            \n",
    "            y_delta = (y_pred - y_true)\n",
    "            pos_indexs = y_delta >= 0\n",
    "            neg_indexs = y_delta < 0\n",
    "\n",
    "            grad = np.zeros(len(y_true))\n",
    "            grad[pos_indexs] = self.cost_b_train[pos_indexs] * y_delta[pos_indexs]\n",
    "            grad[neg_indexs] = self.cost_a_train[neg_indexs] * y_delta[neg_indexs]\n",
    "            \n",
    "            hess = np.zeros(len(y_true))\n",
    "            hess[pos_indexs] = self.cost_b_train[pos_indexs]\n",
    "            hess[neg_indexs] = self.cost_a_train[neg_indexs]\n",
    "            \n",
    "            return grad, hess    \n",
    "        \n",
    "        def evalerror(preds, dval):\n",
    "            labels = dval.get_label()\n",
    "            less_diff = labels - preds\n",
    "            more_diff = preds - labels\n",
    "            less_indexs = (less_diff) > 0\n",
    "            more_indexs = (more_diff) > 0\n",
    "            cost = 0\n",
    "            cost += np.sum(less_diff[less_indexs] * self.cost_a_val[less_indexs])\n",
    "            cost += np.sum(more_diff[more_indexs] * self.cost_b_val[more_indexs])\n",
    "            return 'error', cost\n",
    "        \n",
    "        self.bst = xgb.train(param, dtrain, num_round, evallist, obj, evalerror)\n",
    "        \n",
    "    def predict(self, X_test):\n",
    "        dtest = xgb.DMatrix(X_test)\n",
    "        y_predict = self.bst.predict(dtest)\n",
    "        return y_predict"
   ]
  },
  {
   "cell_type": "code",
   "execution_count": 63,
   "metadata": {
    "collapsed": false
   },
   "outputs": [
    {
     "name": "stderr",
     "output_type": "stream",
     "text": [
      "[0]\teval-error:4100084.550848\n",
      "[1]\teval-error:4005298.022967\n",
      "[2]\teval-error:3909497.284638\n",
      "[3]\teval-error:3823858.829527\n",
      "[4]\teval-error:3727960.535141\n",
      "[5]\teval-error:3646808.052932\n",
      "[6]\teval-error:3568262.995856\n",
      "[7]\teval-error:3491720.093948\n",
      "[8]\teval-error:3418893.270468\n",
      "[9]\teval-error:3352170.505632\n"
     ]
    }
   ],
   "source": [
    "model = XGBoost(X_train, y_train, X_val, y_val, cost_infos)"
   ]
  },
  {
   "cell_type": "markdown",
   "metadata": {},
   "source": [
    "# 6. 模型评估"
   ]
  },
  {
   "cell_type": "markdown",
   "metadata": {},
   "source": [
    "## 特征重要性"
   ]
  },
  {
   "cell_type": "code",
   "execution_count": 64,
   "metadata": {
    "collapsed": false,
    "scrolled": false
   },
   "outputs": [
    {
     "name": "stdout",
     "output_type": "stream",
     "text": [
      "['f0: item_id', 'f1: store_code', 'f2: year', 'f3: month', 'f4: day', 'f5: dow', 'f6: woy', 'f7: is_peek', 'f8: is_chinese_new_year', 'f9: promotion_type', 'f10: holiday_type', 'f11: special_day_type', 'f12: cate_level_id', 'f13: cate_id', 'f14: brand_id', 'f15: supplier_id', 'f16: recent_30_sale', 'f17: njhs_pre_1', 'f18: njhs_pre_2', 'f19: njhs_pre_3', 'f20: njhs_pre_4', 'f21: njhs_pre_5', 'f22: njhs_pre_6', 'f23: njhs_pre_7', 'f24: njhs_pre_8', 'f25: njhs_pre_9', 'f26: njhs_pre_10', 'f27: njhs_pre_11', 'f28: njhs_pre_12', 'f29: njhs_pre_13', 'f30: njhs_pre_14']\n"
     ]
    }
   ],
   "source": [
    "print [\"f\"+str(i) +\": \" + val for i, val in enumerate(feature_cols)]"
   ]
  },
  {
   "cell_type": "code",
   "execution_count": 65,
   "metadata": {
    "collapsed": false
   },
   "outputs": [
    {
     "data": {
      "image/png": "[encoded data removed]",
      "text/plain": [
       "<matplotlib.figure.Figure at 0x158550b50>"
      ]
     },
     "metadata": {},
     "output_type": "display_data"
    }
   ],
   "source": [
    "vz = xgb.plot_importance(model.bst)"
   ]
  },
  {
   "cell_type": "code",
   "execution_count": 66,
   "metadata": {
    "collapsed": true
   },
   "outputs": [],
   "source": [
    "#这里是一天一天预测，将预测值作为特征\n",
    "def predict_by_predict(X_eval, pre_njhs_index):\n",
    "    X = X_eval.copy()\n",
    "    y_predict = []\n",
    "    pred_size = item_size * 6\n",
    "    for day in range(0,13):\n",
    "        X_one_day = X[day * pred_size : (day + 1) * pred_size]\n",
    "        y_pred_one_day = model.predict(X_one_day)\n",
    "        y_predict += list(y_pred_one_day)\n",
    "        X[(day + 1) * pred_size : (day + 2) * pred_size, [val for val in range(pre_njhs_index + 1, pre_njhs_index + 7)]] = X[day * pred_size : (day + 1) * pred_size, [val for val in range(pre_njhs_index, pre_njhs_index + 6)]]\n",
    "        y_true_pre_day = X[:pred_size, pre_njhs_index]\n",
    "        X[(day + 1) * pred_size : (day + 2) * pred_size, pre_njhs_index] = 1 * y_pred_one_day + 0 * y_true_pre_day\n",
    "        X[(day + 1) * pred_size : (day + 2) * pred_size, recent_30_sale_index] = X[0 : pred_size, recent_30_sale_index]\n",
    "#         X[(day + 1) * pred_size : (day + 2) * pred_size, recent_30_njhs_median_index] = X[0 : pred_size, recent_30_njhs_median_index]\n",
    "#         X[(day + 1) * pred_size : (day + 2) * pred_size, recent_jhs_freq_index] = X[0 : pred_size, recent_jhs_freq_index]\n",
    "#         X[(day + 1) * pred_size : (day + 2) * pred_size, recent_njhs_njh_ratio_index] = X[0 : pred_size, recent_njhs_njh_ratio_index]\n",
    "    X_one_day = X[13 * pred_size : (13 + 1) * pred_size]    \n",
    "    y_pred_one_day = model.predict(X_one_day)\n",
    "    y_predict += list(y_pred_one_day)\n",
    "    return y_predict"
   ]
  },
  {
   "cell_type": "markdown",
   "metadata": {},
   "source": [
    "## 用真实特征进行预测"
   ]
  },
  {
   "cell_type": "code",
   "execution_count": 67,
   "metadata": {
    "collapsed": false
   },
   "outputs": [
    {
     "name": "stdout",
     "output_type": "stream",
     "text": [
      "总损失(真实特征): 2890747.01476\n"
     ]
    }
   ],
   "source": [
    "y_predict = model.predict(X_val)\n",
    "\n",
    "count = 0\n",
    "totol_cost = 0\n",
    "for i in range(item_size):\n",
    "    for j in range(store_code_size):\n",
    "        x = X_val[count]\n",
    "        a = cost_a_val[count]\n",
    "        b = cost_b_val[count]\n",
    "        y_pred = np.array(y_predict[count::(item_size * store_code_size)])\n",
    "        y_true = np.array(y_val[count::(item_size * store_code_size)])\n",
    "        totol_cost += get_item_cost(y_pred, y_true, a, b)\n",
    "        count += 1\n",
    "print \"总损失(真实特征): \" + str(totol_cost)"
   ]
  },
  {
   "cell_type": "markdown",
   "metadata": {},
   "source": [
    "## 用预测特征进行预测"
   ]
  },
  {
   "cell_type": "code",
   "execution_count": 68,
   "metadata": {
    "collapsed": false
   },
   "outputs": [
    {
     "name": "stdout",
     "output_type": "stream",
     "text": [
      "总损失(预测特征): 3467907.83403\n"
     ]
    }
   ],
   "source": [
    "y_predict = predict_by_predict(X_val, pre_njhs_index)\n",
    "\n",
    "item_id_list = [int(val) for val in les[0].inverse_transform(X_val[:, 0])]\n",
    "store_code_list = [int(val) for val in les[1].inverse_transform(X_val[:, 1])]\n",
    "\n",
    "y_pred_list = []\n",
    "y_true_list = []\n",
    "cost_list = []\n",
    "count = 0\n",
    "totol_cost = 0\n",
    "for i in range(item_size):\n",
    "    for j in range(store_code_size):\n",
    "        x = X_val[count]\n",
    "        item_id = item_id_list[count]\n",
    "        store_code = store_code_list[count]\n",
    "        a = cost_a_val[count]\n",
    "        b = cost_b_val[count]\n",
    "        y_pred = np.array(y_predict[count::(item_size * store_code_size)])\n",
    "        y_true = np.array(y_val[count::(item_size * store_code_size)])\n",
    "        cost = get_item_cost(y_pred, y_true, a, b)\n",
    "        y_pred_list.append(np.sum(y_pred))\n",
    "        y_true_list.append(np.sum(y_true))\n",
    "        cost_list.append(cost)\n",
    "        totol_cost += cost\n",
    "        count += 1\n",
    "print \"总损失(预测特征): \" + str(totol_cost)"
   ]
  },
  {
   "cell_type": "code",
   "execution_count": 69,
   "metadata": {
    "collapsed": true
   },
   "outputs": [],
   "source": [
    "model.bst.save_model(\"xgb_general.model\")"
   ]
  },
  {
   "cell_type": "markdown",
   "metadata": {},
   "source": [
    "## 结果"
   ]
  },
  {
   "cell_type": "code",
   "execution_count": 70,
   "metadata": {
    "collapsed": true
   },
   "outputs": [],
   "source": [
    "#--------------------- default obj ----------------------\n",
    "#迭代: 150，总损失(真实特征): 767669，总损失(预测特征): 1976823\n",
    "#--------------------- custom obj -----------------------\n",
    "#迭代: 200，总损失(真实特征): 736556，总损失(预测特征): 1550539\n",
    "#迭代: 200，总损失(真实特征): 817381，总损失(预测特征): 1532902\n",
    "#迭代: 200，总损失(真实特征): 755923，总损失(预测特征): 1508475\n",
    "#迭代: 200，总损失(真实特征): 714450，总损失(预测特征): 1438452\n",
    "#迭代: 300，总损失(真实特征): 702380，总损失(预测特征): 1327480\n",
    "#迭代: 200，总损失(真实特征): 709903，总损失(预测特征): 1305544"
   ]
  },
  {
   "cell_type": "markdown",
   "metadata": {},
   "source": [
    "## 观测每个item的具体情况"
   ]
  },
  {
   "cell_type": "code",
   "execution_count": 71,
   "metadata": {
    "collapsed": false
   },
   "outputs": [],
   "source": [
    "datas = {\"item_id\": item_id_list[:item_size*6], \n",
    "         \"store_code\": store_code_list[:item_size*6], \n",
    "         \"val_true\": y_true_list, \n",
    "         \"val_pred\": y_pred_list,\n",
    "         \"a\": cost_a_val[:item_size*6],\n",
    "         \"b\": cost_b_val[:item_size*6],\n",
    "         \"cost\": cost_list}\n",
    "df_val = pd.DataFrame(datas, columns = [\"item_id\", \"store_code\", \"val_true\", \"val_pred\", \"a\", \"b\", \"cost\"])"
   ]
  },
  {
   "cell_type": "markdown",
   "metadata": {},
   "source": [
    "# 7. 预测Test并输出"
   ]
  },
  {
   "cell_type": "code",
   "execution_count": 72,
   "metadata": {
    "collapsed": true
   },
   "outputs": [],
   "source": [
    "y_predict = predict_by_predict(X_test, pre_njhs_index)\n",
    "\n",
    "count = 0\n",
    "outfile = open(\"../../output/result.csv\",\"wb\")\n",
    "for i in range(item_size):\n",
    "    for j in range(store_code_size):\n",
    "        x = X_test[count]\n",
    "        item_id = int(les[0].inverse_transform(x[0]))\n",
    "        y_pred = np.array(y_predict[count::(item_size * store_code_size)])\n",
    "        if j == 0:\n",
    "            res = [str(item_id), \"all\", str(np.sum(y_pred))]\n",
    "        else:\n",
    "            res = [str(item_id), str(j), str(np.sum(y_pred))]\n",
    "        outfile.write(\",\".join(res) + \"\\r\\n\")\n",
    "        count += 1\n",
    "outfile.close()"
   ]
  },
  {
   "cell_type": "code",
   "execution_count": 73,
   "metadata": {
    "collapsed": true
   },
   "outputs": [],
   "source": [
    "y_predict = predict_by_predict(X_test, pre_njhs_index)\n",
    "\n",
    "item_id_list = [int(val) for val in les[0].inverse_transform(X_test[:, 0])]\n",
    "store_code_list = [int(val) for val in les[1].inverse_transform(X_test[:, 1])]\n",
    "\n",
    "y_pred_list = []\n",
    "count = 0\n",
    "for i in range(item_size):\n",
    "    for j in range(store_code_size):\n",
    "        x = X_test[count]\n",
    "        y_pred = np.array(y_predict[count::(item_size * store_code_size)])\n",
    "        y_pred_list.append(np.sum(y_pred))\n",
    "        count += 1"
   ]
  },
  {
   "cell_type": "code",
   "execution_count": 74,
   "metadata": {
    "collapsed": true
   },
   "outputs": [],
   "source": [
    "datas = {\"item_id\": item_id_list[:item_size*6], \n",
    "         \"store_code\": store_code_list[:item_size*6], \n",
    "         \"test_pred\": y_pred_list}\n",
    "df_test = pd.DataFrame(datas, columns = [\"item_id\", \"store_code\", \"test_pred\"])"
   ]
  },
  {
   "cell_type": "markdown",
   "metadata": {
    "collapsed": true
   },
   "source": [
    "# 8. Ensemble"
   ]
  },
  {
   "cell_type": "code",
   "execution_count": 111,
   "metadata": {
    "collapsed": false
   },
   "outputs": [
    {
     "data": {
      "text/html": [
       "<div>\n",
       "<table border=\"1\" class=\"dataframe\">\n",
       "  <thead>\n",
       "    <tr style=\"text-align: right;\">\n",
       "      <th></th>\n",
       "      <th>item_id</th>\n",
       "      <th>store_code</th>\n",
       "      <th>val_true</th>\n",
       "      <th>val_pred</th>\n",
       "      <th>a</th>\n",
       "      <th>b</th>\n",
       "      <th>cost</th>\n",
       "    </tr>\n",
       "  </thead>\n",
       "  <tbody>\n",
       "    <tr>\n",
       "      <th>726</th>\n",
       "      <td>12885</td>\n",
       "      <td>0</td>\n",
       "      <td>1893</td>\n",
       "      <td>1143.243896</td>\n",
       "      <td>41.27</td>\n",
       "      <td>10.94</td>\n",
       "      <td>30942.434392</td>\n",
       "    </tr>\n",
       "    <tr>\n",
       "      <th>2160</th>\n",
       "      <td>43889</td>\n",
       "      <td>0</td>\n",
       "      <td>177</td>\n",
       "      <td>336.075562</td>\n",
       "      <td>36.47</td>\n",
       "      <td>82.77</td>\n",
       "      <td>13166.684227</td>\n",
       "    </tr>\n",
       "    <tr>\n",
       "      <th>3936</th>\n",
       "      <td>76166</td>\n",
       "      <td>0</td>\n",
       "      <td>2899</td>\n",
       "      <td>1994.055176</td>\n",
       "      <td>40.14</td>\n",
       "      <td>11.66</td>\n",
       "      <td>36324.485244</td>\n",
       "    </tr>\n",
       "    <tr>\n",
       "      <th>4110</th>\n",
       "      <td>78932</td>\n",
       "      <td>0</td>\n",
       "      <td>9716</td>\n",
       "      <td>7657.670410</td>\n",
       "      <td>41.76</td>\n",
       "      <td>10.62</td>\n",
       "      <td>85955.843672</td>\n",
       "    </tr>\n",
       "    <tr>\n",
       "      <th>4362</th>\n",
       "      <td>85023</td>\n",
       "      <td>0</td>\n",
       "      <td>58</td>\n",
       "      <td>208.092545</td>\n",
       "      <td>35.89</td>\n",
       "      <td>92.98</td>\n",
       "      <td>13955.604793</td>\n",
       "    </tr>\n",
       "    <tr>\n",
       "      <th>4980</th>\n",
       "      <td>102261</td>\n",
       "      <td>0</td>\n",
       "      <td>212</td>\n",
       "      <td>1433.071411</td>\n",
       "      <td>42.10</td>\n",
       "      <td>72.87</td>\n",
       "      <td>88979.473729</td>\n",
       "    </tr>\n",
       "    <tr>\n",
       "      <th>5166</th>\n",
       "      <td>114243</td>\n",
       "      <td>0</td>\n",
       "      <td>727</td>\n",
       "      <td>1704.827515</td>\n",
       "      <td>47.49</td>\n",
       "      <td>10.44</td>\n",
       "      <td>10208.519253</td>\n",
       "    </tr>\n",
       "    <tr>\n",
       "      <th>5268</th>\n",
       "      <td>124614</td>\n",
       "      <td>0</td>\n",
       "      <td>580</td>\n",
       "      <td>317.888855</td>\n",
       "      <td>42.22</td>\n",
       "      <td>16.54</td>\n",
       "      <td>11066.332543</td>\n",
       "    </tr>\n",
       "    <tr>\n",
       "      <th>5394</th>\n",
       "      <td>137191</td>\n",
       "      <td>0</td>\n",
       "      <td>697</td>\n",
       "      <td>458.100800</td>\n",
       "      <td>42.29</td>\n",
       "      <td>83.59</td>\n",
       "      <td>10103.047187</td>\n",
       "    </tr>\n",
       "    <tr>\n",
       "      <th>5556</th>\n",
       "      <td>149294</td>\n",
       "      <td>0</td>\n",
       "      <td>631</td>\n",
       "      <td>245.329147</td>\n",
       "      <td>43.53</td>\n",
       "      <td>11.25</td>\n",
       "      <td>16788.252216</td>\n",
       "    </tr>\n",
       "    <tr>\n",
       "      <th>5694</th>\n",
       "      <td>158638</td>\n",
       "      <td>0</td>\n",
       "      <td>592</td>\n",
       "      <td>754.913513</td>\n",
       "      <td>40.93</td>\n",
       "      <td>80.79</td>\n",
       "      <td>13161.782730</td>\n",
       "    </tr>\n",
       "  </tbody>\n",
       "</table>\n",
       "</div>"
      ],
      "text/plain": [
       "      item_id  store_code  val_true     val_pred      a      b          cost\n",
       "726     12885           0      1893  1143.243896  41.27  10.94  30942.434392\n",
       "2160    43889           0       177   336.075562  36.47  82.77  13166.684227\n",
       "3936    76166           0      2899  1994.055176  40.14  11.66  36324.485244\n",
       "4110    78932           0      9716  7657.670410  41.76  10.62  85955.843672\n",
       "4362    85023           0        58   208.092545  35.89  92.98  13955.604793\n",
       "4980   102261           0       212  1433.071411  42.10  72.87  88979.473729\n",
       "5166   114243           0       727  1704.827515  47.49  10.44  10208.519253\n",
       "5268   124614           0       580   317.888855  42.22  16.54  11066.332543\n",
       "5394   137191           0       697   458.100800  42.29  83.59  10103.047187\n",
       "5556   149294           0       631   245.329147  43.53  11.25  16788.252216\n",
       "5694   158638           0       592   754.913513  40.93  80.79  13161.782730"
      ]
     },
     "execution_count": 111,
     "metadata": {},
     "output_type": "execute_result"
    }
   ],
   "source": [
    "df_val[df_val.cost > 10000]"
   ]
  },
  {
   "cell_type": "code",
   "execution_count": 112,
   "metadata": {
    "collapsed": true
   },
   "outputs": [],
   "source": [
    "result_header = [\"item_id\",\"store_code\",\"submit_njhs\"]\n",
    "submit_result = pd.read_csv(\"../../output/result.csv\", header=None, names=result_header)\n",
    "submit_result[\"store_code\"] = submit_result[\"store_code\"].map(lambda x : 0 if x == \"all\" else int(x))"
   ]
  },
  {
   "cell_type": "code",
   "execution_count": 113,
   "metadata": {
    "collapsed": true
   },
   "outputs": [],
   "source": [
    "df = pd.merge(df_val, df_test, how=\"left\",on=[\"item_id\",\"store_code\"])\n",
    "df = pd.merge(df, submit_result, how=\"left\",on=[\"item_id\",\"store_code\"])"
   ]
  },
  {
   "cell_type": "code",
   "execution_count": 114,
   "metadata": {
    "collapsed": false
   },
   "outputs": [
    {
     "data": {
      "text/html": [
       "<div>\n",
       "<table border=\"1\" class=\"dataframe\">\n",
       "  <thead>\n",
       "    <tr style=\"text-align: right;\">\n",
       "      <th></th>\n",
       "      <th>item_id</th>\n",
       "      <th>store_code</th>\n",
       "      <th>val_true</th>\n",
       "      <th>val_pred</th>\n",
       "      <th>a</th>\n",
       "      <th>b</th>\n",
       "      <th>cost</th>\n",
       "      <th>test_pred</th>\n",
       "      <th>submit_njhs</th>\n",
       "    </tr>\n",
       "  </thead>\n",
       "  <tbody>\n",
       "    <tr>\n",
       "      <th>0</th>\n",
       "      <td>33</td>\n",
       "      <td>0</td>\n",
       "      <td>6</td>\n",
       "      <td>2.398134</td>\n",
       "      <td>47.61</td>\n",
       "      <td>85.10</td>\n",
       "      <td>171.484818</td>\n",
       "      <td>2.510869</td>\n",
       "      <td>3.167789</td>\n",
       "    </tr>\n",
       "    <tr>\n",
       "      <th>1</th>\n",
       "      <td>33</td>\n",
       "      <td>1</td>\n",
       "      <td>0</td>\n",
       "      <td>0.605456</td>\n",
       "      <td>14.64</td>\n",
       "      <td>26.20</td>\n",
       "      <td>15.862941</td>\n",
       "      <td>0.705669</td>\n",
       "      <td>0.375191</td>\n",
       "    </tr>\n",
       "    <tr>\n",
       "      <th>2</th>\n",
       "      <td>33</td>\n",
       "      <td>2</td>\n",
       "      <td>1</td>\n",
       "      <td>0.850167</td>\n",
       "      <td>12.68</td>\n",
       "      <td>22.68</td>\n",
       "      <td>1.899879</td>\n",
       "      <td>1.034498</td>\n",
       "      <td>0.666811</td>\n",
       "    </tr>\n",
       "    <tr>\n",
       "      <th>3</th>\n",
       "      <td>33</td>\n",
       "      <td>3</td>\n",
       "      <td>0</td>\n",
       "      <td>0.605456</td>\n",
       "      <td>21.16</td>\n",
       "      <td>37.84</td>\n",
       "      <td>22.910446</td>\n",
       "      <td>0.705669</td>\n",
       "      <td>0.419176</td>\n",
       "    </tr>\n",
       "    <tr>\n",
       "      <th>4</th>\n",
       "      <td>33</td>\n",
       "      <td>4</td>\n",
       "      <td>4</td>\n",
       "      <td>0.808007</td>\n",
       "      <td>19.04</td>\n",
       "      <td>34.04</td>\n",
       "      <td>60.775542</td>\n",
       "      <td>1.551264</td>\n",
       "      <td>2.040455</td>\n",
       "    </tr>\n",
       "  </tbody>\n",
       "</table>\n",
       "</div>"
      ],
      "text/plain": [
       "   item_id  store_code  val_true  val_pred      a      b        cost  \\\n",
       "0       33           0         6  2.398134  47.61  85.10  171.484818   \n",
       "1       33           1         0  0.605456  14.64  26.20   15.862941   \n",
       "2       33           2         1  0.850167  12.68  22.68    1.899879   \n",
       "3       33           3         0  0.605456  21.16  37.84   22.910446   \n",
       "4       33           4         4  0.808007  19.04  34.04   60.775542   \n",
       "\n",
       "   test_pred  submit_njhs  \n",
       "0   2.510869     3.167789  \n",
       "1   0.705669     0.375191  \n",
       "2   1.034498     0.666811  \n",
       "3   0.705669     0.419176  \n",
       "4   1.551264     2.040455  "
      ]
     },
     "execution_count": 114,
     "metadata": {},
     "output_type": "execute_result"
    }
   ],
   "source": [
    "df.head()"
   ]
  },
  {
   "cell_type": "code",
   "execution_count": 115,
   "metadata": {
    "collapsed": true
   },
   "outputs": [],
   "source": [
    "def ensemble(x,y,z):\n",
    "    if x > 10000:\n",
    "        return 0.98*y+0.02*z\n",
    "    elif x > 1000:\n",
    "        return 0.9*y+0.1*z\n",
    "    else:\n",
    "        return 0.7*y+0.3*z"
   ]
  },
  {
   "cell_type": "code",
   "execution_count": 116,
   "metadata": {
    "collapsed": true
   },
   "outputs": [],
   "source": [
    "df[\"ensembel_val\"] = df.apply(lambda x: ensemble(x[\"cost\"],x[\"submit_njhs\"],x[\"test_pred\"]),axis=1)"
   ]
  },
  {
   "cell_type": "code",
   "execution_count": 117,
   "metadata": {
    "collapsed": false
   },
   "outputs": [
    {
     "data": {
      "text/html": [
       "<div>\n",
       "<table border=\"1\" class=\"dataframe\">\n",
       "  <thead>\n",
       "    <tr style=\"text-align: right;\">\n",
       "      <th></th>\n",
       "      <th>item_id</th>\n",
       "      <th>store_code</th>\n",
       "      <th>val_true</th>\n",
       "      <th>val_pred</th>\n",
       "      <th>a</th>\n",
       "      <th>b</th>\n",
       "      <th>cost</th>\n",
       "      <th>test_pred</th>\n",
       "      <th>submit_njhs</th>\n",
       "      <th>ensembel_val</th>\n",
       "    </tr>\n",
       "  </thead>\n",
       "  <tbody>\n",
       "    <tr>\n",
       "      <th>0</th>\n",
       "      <td>33</td>\n",
       "      <td>0</td>\n",
       "      <td>6</td>\n",
       "      <td>2.398134</td>\n",
       "      <td>47.61</td>\n",
       "      <td>85.10</td>\n",
       "      <td>171.484818</td>\n",
       "      <td>2.510869</td>\n",
       "      <td>3.167789</td>\n",
       "      <td>2.970713</td>\n",
       "    </tr>\n",
       "    <tr>\n",
       "      <th>1</th>\n",
       "      <td>33</td>\n",
       "      <td>1</td>\n",
       "      <td>0</td>\n",
       "      <td>0.605456</td>\n",
       "      <td>14.64</td>\n",
       "      <td>26.20</td>\n",
       "      <td>15.862941</td>\n",
       "      <td>0.705669</td>\n",
       "      <td>0.375191</td>\n",
       "      <td>0.474334</td>\n",
       "    </tr>\n",
       "    <tr>\n",
       "      <th>2</th>\n",
       "      <td>33</td>\n",
       "      <td>2</td>\n",
       "      <td>1</td>\n",
       "      <td>0.850167</td>\n",
       "      <td>12.68</td>\n",
       "      <td>22.68</td>\n",
       "      <td>1.899879</td>\n",
       "      <td>1.034498</td>\n",
       "      <td>0.666811</td>\n",
       "      <td>0.777117</td>\n",
       "    </tr>\n",
       "    <tr>\n",
       "      <th>3</th>\n",
       "      <td>33</td>\n",
       "      <td>3</td>\n",
       "      <td>0</td>\n",
       "      <td>0.605456</td>\n",
       "      <td>21.16</td>\n",
       "      <td>37.84</td>\n",
       "      <td>22.910446</td>\n",
       "      <td>0.705669</td>\n",
       "      <td>0.419176</td>\n",
       "      <td>0.505124</td>\n",
       "    </tr>\n",
       "    <tr>\n",
       "      <th>4</th>\n",
       "      <td>33</td>\n",
       "      <td>4</td>\n",
       "      <td>4</td>\n",
       "      <td>0.808007</td>\n",
       "      <td>19.04</td>\n",
       "      <td>34.04</td>\n",
       "      <td>60.775542</td>\n",
       "      <td>1.551264</td>\n",
       "      <td>2.040455</td>\n",
       "      <td>1.893698</td>\n",
       "    </tr>\n",
       "  </tbody>\n",
       "</table>\n",
       "</div>"
      ],
      "text/plain": [
       "   item_id  store_code  val_true  val_pred      a      b        cost  \\\n",
       "0       33           0         6  2.398134  47.61  85.10  171.484818   \n",
       "1       33           1         0  0.605456  14.64  26.20   15.862941   \n",
       "2       33           2         1  0.850167  12.68  22.68    1.899879   \n",
       "3       33           3         0  0.605456  21.16  37.84   22.910446   \n",
       "4       33           4         4  0.808007  19.04  34.04   60.775542   \n",
       "\n",
       "   test_pred  submit_njhs  ensembel_val  \n",
       "0   2.510869     3.167789      2.970713  \n",
       "1   0.705669     0.375191      0.474334  \n",
       "2   1.034498     0.666811      0.777117  \n",
       "3   0.705669     0.419176      0.505124  \n",
       "4   1.551264     2.040455      1.893698  "
      ]
     },
     "execution_count": 117,
     "metadata": {},
     "output_type": "execute_result"
    }
   ],
   "source": [
    "df.head()"
   ]
  },
  {
   "cell_type": "code",
   "execution_count": 118,
   "metadata": {
    "collapsed": false
   },
   "outputs": [
    {
     "name": "stderr",
     "output_type": "stream",
     "text": [
      "/Library/Python/2.7/site-packages/ipykernel/__main__.py:2: SettingWithCopyWarning: \n",
      "A value is trying to be set on a copy of a slice from a DataFrame.\n",
      "Try using .loc[row_indexer,col_indexer] = value instead\n",
      "\n",
      "See the the caveats in the documentation: http://pandas.pydata.org/pandas-docs/stable/indexing.html#indexing-view-versus-copy\n",
      "  from ipykernel import kernelapp as app\n"
     ]
    }
   ],
   "source": [
    "final_submission = df[[\"item_id\",\"store_code\",\"ensembel_val\"]]\n",
    "final_submission[\"store_code\"] = final_submission[\"store_code\"].map(lambda x : \"all\" if x == 0 else str(x))"
   ]
  },
  {
   "cell_type": "code",
   "execution_count": 119,
   "metadata": {
    "collapsed": false
   },
   "outputs": [
    {
     "data": {
      "text/html": [
       "<div>\n",
       "<table border=\"1\" class=\"dataframe\">\n",
       "  <thead>\n",
       "    <tr style=\"text-align: right;\">\n",
       "      <th></th>\n",
       "      <th>item_id</th>\n",
       "      <th>store_code</th>\n",
       "      <th>ensembel_val</th>\n",
       "    </tr>\n",
       "  </thead>\n",
       "  <tbody>\n",
       "    <tr>\n",
       "      <th>0</th>\n",
       "      <td>33</td>\n",
       "      <td>all</td>\n",
       "      <td>2.970713</td>\n",
       "    </tr>\n",
       "    <tr>\n",
       "      <th>1</th>\n",
       "      <td>33</td>\n",
       "      <td>1</td>\n",
       "      <td>0.474334</td>\n",
       "    </tr>\n",
       "    <tr>\n",
       "      <th>2</th>\n",
       "      <td>33</td>\n",
       "      <td>2</td>\n",
       "      <td>0.777117</td>\n",
       "    </tr>\n",
       "    <tr>\n",
       "      <th>3</th>\n",
       "      <td>33</td>\n",
       "      <td>3</td>\n",
       "      <td>0.505124</td>\n",
       "    </tr>\n",
       "    <tr>\n",
       "      <th>4</th>\n",
       "      <td>33</td>\n",
       "      <td>4</td>\n",
       "      <td>1.893698</td>\n",
       "    </tr>\n",
       "  </tbody>\n",
       "</table>\n",
       "</div>"
      ],
      "text/plain": [
       "   item_id store_code  ensembel_val\n",
       "0       33        all      2.970713\n",
       "1       33          1      0.474334\n",
       "2       33          2      0.777117\n",
       "3       33          3      0.505124\n",
       "4       33          4      1.893698"
      ]
     },
     "execution_count": 119,
     "metadata": {},
     "output_type": "execute_result"
    }
   ],
   "source": [
    "final_submission.head()"
   ]
  },
  {
   "cell_type": "code",
   "execution_count": 120,
   "metadata": {
    "collapsed": true
   },
   "outputs": [],
   "source": [
    "final_submission.to_csv(\"../../output/submission\",header=False,index=False)"
   ]
  }
 ],
 "metadata": {
  "kernelspec": {
   "display_name": "Python 2",
   "language": "python",
   "name": "python2"
  },
  "language_info": {
   "codemirror_mode": {
    "name": "ipython",
    "version": 2
   },
   "file_extension": ".py",
   "mimetype": "text/x-python",
   "name": "python",
   "nbconvert_exporter": "python",
   "pygments_lexer": "ipython2",
   "version": "2.7.6"
  }
 },
 "nbformat": 4,
 "nbformat_minor": 0
}
