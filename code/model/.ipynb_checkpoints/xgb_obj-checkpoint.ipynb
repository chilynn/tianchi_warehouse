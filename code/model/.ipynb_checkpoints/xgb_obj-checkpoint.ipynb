{
 "cells": [
  {
   "cell_type": "code",
   "execution_count": 1,
   "metadata": {
    "collapsed": true
   },
   "outputs": [],
   "source": [
    "import sys\n",
    "import pickle\n",
    "import numpy as np\n",
    "import datetime as dt\n",
    "import xgboost as xgb\n",
    "from datetime import datetime"
   ]
  },
  {
   "cell_type": "code",
   "execution_count": 2,
   "metadata": {
    "collapsed": true
   },
   "outputs": [],
   "source": [
    "#读取label encoders，特征(转换后)与原始值之间的映射\n",
    "with open(\"../data/les.pickle\",\"rb\") as f:\n",
    "    les = pickle.load(f)"
   ]
  },
  {
   "cell_type": "code",
   "execution_count": 3,
   "metadata": {
    "collapsed": true
   },
   "outputs": [],
   "source": [
    "with open(\"../data/config.pickle\",\"rb\") as f:\n",
    "    config = pickle.load(f)\n",
    "item2config = {}\n",
    "for record in config:\n",
    "    location_map = {\"all\": 0, \"1\": 1, \"2\": 2, \"3\": 3, \"4\": 4, \"5\": 5}\n",
    "    A = float(record[\"a_b\"].split('_')[0])\n",
    "    B = float(record[\"a_b\"].split('_')[1])\n",
    "    item_id = int(record[\"item_id\"])\n",
    "    location = location_map[record[\"store_code\"]]\n",
    "    item2config.setdefault(item_id, {}).setdefault(location, [A, B])"
   ]
  },
  {
   "cell_type": "code",
   "execution_count": 4,
   "metadata": {
    "collapsed": true
   },
   "outputs": [],
   "source": [
    "class XGBoost(object):  \n",
    "    \n",
    "    def normalize(self, y):\n",
    "        prob = np.log(y + 1) / self.max_log_y\n",
    "        return prob\n",
    "    \n",
    "    def denormalize(self, prob):\n",
    "        return np.exp(prob * self.max_log_y) - 1\n",
    "    \n",
    "    def __init__(self, X_train, y_train, X_val, y_val, cost_infos):\n",
    "        self.max_log_y = max(np.max(np.log(y_train + 1)), np.max(np.log(y_val + 1)))\n",
    "        \n",
    "        self.train_avg_cost = cost_infos[0]\n",
    "        self.train_less_cost = cost_infos[1]\n",
    "        self.train_more_cost = cost_infos[2]\n",
    "        self.val_avg_cost = cost_infos[3]\n",
    "        self.val_less_cost = cost_infos[4]\n",
    "        self.val_more_cost = cost_infos[5]\n",
    "\n",
    "        dtrain = xgb.DMatrix(X_train, label=y_train)\n",
    "        dval = xgb.DMatrix(X_val, label=y_val)\n",
    "        evallist = [(dval,'eval')]\n",
    "        param = {'nthread': -1,\n",
    "                 'max_depth': 7,\n",
    "                 'eta': 0.01,\n",
    "                 'silent': 1,\n",
    "                 'colsample_bytree': 0.7,\n",
    "                 'subsample': 0.7}\n",
    "        num_round = 100\n",
    "        \n",
    "        #损失函数为 Loss(y_true, y_pred)\n",
    "        #当y_pred > y_true时，0.5 * B * (y_pred - y_true) ^ 2\n",
    "        #当y_true > y_pred时，0.5 * A * (y_pred - y_true) ^ 2\n",
    "        #分段求一阶导和二阶导\n",
    "        def obj(y_pred, dtrain):\n",
    "            y_true = dtrain.get_label()\n",
    "            print '----'\n",
    "            print y_true[0:10]\n",
    "            print y_pred[0:10]\n",
    "            print self.train_less_cost[0:10]\n",
    "            print self.train_more_cost[0:10]\n",
    "            print '----'\n",
    "            \n",
    "            y_delta = (y_pred - y_true)\n",
    "            pos_indexs = y_delta >= 0\n",
    "            neg_indexs = y_delta < 0\n",
    "\n",
    "            grad = np.zeros(len(y_true))\n",
    "            grad[pos_indexs] = self.train_more_cost[pos_indexs] * y_delta[pos_indexs]\n",
    "            grad[neg_indexs] = self.train_less_cost[neg_indexs] * y_delta[neg_indexs]\n",
    "            \n",
    "            hess = np.zeros(len(y_true))\n",
    "            hess[pos_indexs] = self.train_more_cost[pos_indexs]\n",
    "            hess[neg_indexs] = self.train_less_cost[neg_indexs]\n",
    "            \n",
    "            return grad, hess    \n",
    "        \n",
    "        #这里测评会比最后测评的损失大，因为这里是预测每1天，最后测评时预测14天，这里只是观察loss的变化\n",
    "        def evalerror(preds, dval):\n",
    "            labels = dval.get_label()\n",
    "            less_diff = labels - preds\n",
    "            more_diff = preds - labels\n",
    "            less_indexs = (less_diff) > 0\n",
    "            more_indexs = (more_diff) > 0\n",
    "            cost = 0\n",
    "            cost += np.sum(less_diff[less_indexs] * self.val_less_cost[less_indexs])\n",
    "            cost += np.sum(more_diff[more_indexs] * self.val_more_cost[more_indexs])\n",
    "            return 'error', cost\n",
    "        \n",
    "        self.bst = xgb.train(param, dtrain, num_round, evallist)\n",
    "        \n",
    "    def predict(self, feature):\n",
    "        dtest = xgb.DMatrix(feature)\n",
    "        y_predict = self.bst.predict(dtest)\n",
    "        return y_predict"
   ]
  },
  {
   "cell_type": "code",
   "execution_count": 5,
   "metadata": {
    "collapsed": true
   },
   "outputs": [],
   "source": [
    "#获取14天预测值的总和\n",
    "def getPredictResultOfTwoWeek(X_val, y_val, y_predict, les):\n",
    "    item_predict_dict = {}\n",
    "    item_target_dict = {}\n",
    "    item_ids = les[0].inverse_transform(X_val[:, 0])\n",
    "    locations = les[1].inverse_transform(X_val[:, 1])     \n",
    "    for i in range(len(y_predict)):   \n",
    "        item_id = int(item_ids[i])\n",
    "        location = int(locations[i])\n",
    "        predict_sale = y_predict[i]\n",
    "        target_sale = y_val[i]\n",
    "        item_predict_dict.setdefault(item_id, {}).setdefault(location, 0)\n",
    "        item_target_dict.setdefault(item_id, {}).setdefault(location, 0)\n",
    "        item_predict_dict[item_id][location] += predict_sale\n",
    "        item_target_dict[item_id][location] += target_sale\n",
    "    return item_predict_dict, item_target_dict"
   ]
  },
  {
   "cell_type": "code",
   "execution_count": 6,
   "metadata": {
    "collapsed": true
   },
   "outputs": [],
   "source": [
    "#评测\n",
    "def evaluate(X_val, y_val, y_predict, config, les):\n",
    "    item_predict_dict, item_target_dict = getPredictResultOfTwoWeek(X_val, y_val, y_predict, les)\n",
    "    cost = 0\n",
    "    for item_id in item_predict_dict.keys():\n",
    "        for location in item_predict_dict[item_id].keys():\n",
    "            local_predict_sale = item_predict_dict[item_id][location]\n",
    "            local_target_sale = item_target_dict[item_id][location] \n",
    "            A = item2config[int(item_id)][location][0]\n",
    "            B = item2config[int(item_id)][location][1] \n",
    "            cost += A * max(local_target_sale - local_predict_sale, 0) + B * max(local_predict_sale - local_target_sale, 0)\n",
    "    return cost"
   ]
  },
  {
   "cell_type": "code",
   "execution_count": 7,
   "metadata": {
    "collapsed": true
   },
   "outputs": [],
   "source": [
    "(X_train, y_train) = pickle.load(open(\"../data/train_xy.pickle\", \"rb\"))\n",
    "(X_val, y_val) = pickle.load(open(\"../data/val_xy.pickle\", \"rb\"))\n",
    "X_test = pickle.load(open(\"../data/test_x.pickle\", \"rb\"))"
   ]
  },
  {
   "cell_type": "code",
   "execution_count": 67,
   "metadata": {
    "collapsed": true
   },
   "outputs": [],
   "source": [
    "#简单地做一些特征选择\n",
    "selected_feature_index = [0,1,2,3,4,5,6,7,8,9,10,11,12,13,14,15]\n",
    "selected_feature_index += [val for val in range(16, 30)]\n",
    "X_train = X_train[:, selected_feature_index]\n",
    "X_val = X_val[:, selected_feature_index]\n",
    "X_test = X_test[:, selected_feature_index]"
   ]
  },
  {
   "cell_type": "code",
   "execution_count": 8,
   "metadata": {
    "collapsed": false
   },
   "outputs": [],
   "source": [
    "#训练集中过多或过少的损失\n",
    "train_avg_cost = []\n",
    "train_less_cost = []\n",
    "train_more_cost = []\n",
    "item_id_list = les[0].inverse_transform(X_train[:, 0])\n",
    "location_list = les[1].inverse_transform(X_train[:, 1]) \n",
    "for i in range(len(X_train)):\n",
    "    x = X_train[i]\n",
    "    item_id = item_id_list[i]\n",
    "    store_code = location_list[i]\n",
    "    A = item2config[item_id][store_code][0]\n",
    "    B = item2config[item_id][store_code][1]    \n",
    "    train_less_cost.append(A)\n",
    "    train_more_cost.append(B)\n",
    "    train_avg_cost.append(0.5 * (A+B))"
   ]
  },
  {
   "cell_type": "code",
   "execution_count": 9,
   "metadata": {
    "collapsed": true
   },
   "outputs": [],
   "source": [
    "#验证集中过多或过少的损失\n",
    "val_avg_cost = []\n",
    "val_less_cost = []\n",
    "val_more_cost = []\n",
    "item_id_list = les[0].inverse_transform(X_val[:, 0])\n",
    "location_list = les[1].inverse_transform(X_val[:, 1]) \n",
    "for i in range(len(X_val)):\n",
    "    x = X_val[i]\n",
    "    item_id = item_id_list[i]\n",
    "    store_code = location_list[i]\n",
    "    A = item2config[item_id][store_code][0]\n",
    "    B = item2config[item_id][store_code][1]    \n",
    "    val_less_cost.append(A)\n",
    "    val_more_cost.append(B)\n",
    "    val_avg_cost.append(0.5 * (A+B))"
   ]
  },
  {
   "cell_type": "code",
   "execution_count": 10,
   "metadata": {
    "collapsed": false
   },
   "outputs": [],
   "source": [
    "train_avg_cost = np.array(train_avg_cost)    \n",
    "train_less_cost = np.array(train_less_cost)\n",
    "train_more_cost = np.array(train_more_cost)\n",
    "val_avg_cost = np.array(val_avg_cost)    \n",
    "val_less_cost = np.array(val_less_cost)\n",
    "val_more_cost = np.array(val_more_cost)\n",
    "cost_infos = [train_avg_cost, train_less_cost, train_more_cost, val_avg_cost, val_less_cost, val_more_cost]"
   ]
  },
  {
   "cell_type": "code",
   "execution_count": null,
   "metadata": {
    "collapsed": false
   },
   "outputs": [
    {
     "name": "stderr",
     "output_type": "stream",
     "text": [
      "[0]\teval-rmse:11.317424\n",
      "[1]\teval-rmse:11.221126\n"
     ]
    }
   ],
   "source": [
    "model = XGBoost(X_train, y_train, X_val, y_val, cost_infos)"
   ]
  },
  {
   "cell_type": "code",
   "execution_count": 69,
   "metadata": {
    "collapsed": false
   },
   "outputs": [],
   "source": [
    "#这里的预测是用X_val前14天真实的值做为特征\n",
    "y_predict = model.predict(X_val)"
   ]
  },
  {
   "cell_type": "code",
   "execution_count": 70,
   "metadata": {
    "collapsed": false
   },
   "outputs": [
    {
     "name": "stdout",
     "output_type": "stream",
     "text": [
      "726636.861351\n"
     ]
    }
   ],
   "source": [
    "print evaluate(X_val, y_val, y_predict, config, les)"
   ]
  },
  {
   "cell_type": "code",
   "execution_count": 71,
   "metadata": {
    "collapsed": false
   },
   "outputs": [],
   "source": [
    "#这里是一天一天预测，将预测值作为特征\n",
    "y_predict = []\n",
    "recent_njhs_col = 16\n",
    "predict_size = 5778\n",
    "for day in range(0,13):\n",
    "    X_val_oneday = X_val[day * predict_size : (day + 1) * predict_size]\n",
    "    y_pre = model.predict(X_val_oneday)\n",
    "    y_predict = y_predict + list(y_pre)\n",
    "    X_val[(day + 1) * predict_size : (day + 2) * predict_size, 14] = X_val[0 : predict_size, 14]\n",
    "    X_val[(day + 1) * predict_size : (day + 2) * predict_size, 15] = X_val[0 : predict_size, 15]\n",
    "    X_val[(day + 1) * predict_size : (day + 2) * predict_size, [val for val in range(recent_njhs_col + 1, recent_njhs_col + 14)]] = X_val[day * predict_size : (day + 1) * predict_size, [val for val in range(recent_njhs_col, recent_njhs_col + 13)]]\n",
    "    X_val[(day + 1) * predict_size : (day + 2) * predict_size, recent_njhs_col] = y_pre\n",
    "X_val_oneday = X_val[13 * predict_size : (13 + 1) * predict_size]    \n",
    "y_pre = model.predict(X_val_oneday)\n",
    "y_predict += list(y_pre)"
   ]
  },
  {
   "cell_type": "code",
   "execution_count": 72,
   "metadata": {
    "collapsed": false
   },
   "outputs": [
    {
     "name": "stdout",
     "output_type": "stream",
     "text": [
      "1871911.62489\n"
     ]
    }
   ],
   "source": [
    "print evaluate(X_val, y_val, y_predict, config, les)"
   ]
  },
  {
   "cell_type": "code",
   "execution_count": null,
   "metadata": {
    "collapsed": true
   },
   "outputs": [],
   "source": [
    "# predict by real      predict by predict       online test\n",
    "#   665300.141584           1642929.52312           1511180\n",
    "# ---------------------------------------------------------\n",
    "#   761987.420657           1890359.84909               ???\n",
    "#   748644.131440           1779823.92518               ???\n",
    "#   701252.662177           1688810.22229               ???"
   ]
  },
  {
   "cell_type": "code",
   "execution_count": 46,
   "metadata": {
    "collapsed": true
   },
   "outputs": [],
   "source": [
    "#这里是一天一天预测，预测最后的test\n",
    "y_predict = []\n",
    "recent_njhs_col = 16\n",
    "predict_size = 5778\n",
    "for day in range(0,13):\n",
    "    X_test_oneday = X_test[day * predict_size : (day + 1) * predict_size]\n",
    "    y_pre = model.predict(X_test_oneday)\n",
    "    y_predict = y_predict + list(y_pre)\n",
    "    X_test[(day + 1) * predict_size : (day + 2) * predict_size, 14] = X_test[0 : predict_size, 14]\n",
    "    X_test[(day + 1) * predict_size : (day + 2) * predict_size, 15] = X_test[0 : predict_size, 15]\n",
    "    X_test[(day + 1) * predict_size : (day + 2) * predict_size, [val for val in range(recent_njhs_col + 1, recent_njhs_col + 14)]] = X_test[day * predict_size : (day + 1) * predict_size, [val for val in range(recent_njhs_col, recent_njhs_col + 13)]]\n",
    "    X_test[(day + 1) * predict_size : (day + 2) * predict_size, recent_njhs_col] = y_pre\n",
    "X_test_oneday = X_test[13 * predict_size : (13 + 1) * predict_size]    \n",
    "y_pre = model.predict(X_test_oneday)\n",
    "y_predict += list(y_pre)"
   ]
  },
  {
   "cell_type": "code",
   "execution_count": 47,
   "metadata": {
    "collapsed": true
   },
   "outputs": [],
   "source": [
    "#汇总14天的结果\n",
    "item_predict_dict, item_target_dict = getPredictResultOfTwoWeek(X_test, y_predict, y_predict, les)"
   ]
  },
  {
   "cell_type": "code",
   "execution_count": 48,
   "metadata": {
    "collapsed": true
   },
   "outputs": [],
   "source": [
    "#输出最后的提交结果\n",
    "outfile = open(\"../data/result.csv\",\"wb\")\n",
    "for item_id in item_predict_dict.keys():\n",
    "    total = 0\n",
    "    for location in item_predict_dict[item_id].keys():\n",
    "        y = item_predict_dict[item_id][location]\n",
    "        if location == 0:\n",
    "            res = [str(int(item_id)), \"all\", str(y)]\n",
    "        else:\n",
    "            res = [str(int(item_id)), str(int(location)), str(y)]\n",
    "        total = total + y\n",
    "        outfile.write(\",\".join(res) + \"\\r\\n\")\n",
    "outfile.close()"
   ]
  },
  {
   "cell_type": "code",
   "execution_count": null,
   "metadata": {
    "collapsed": true
   },
   "outputs": [],
   "source": []
  }
 ],
 "metadata": {
  "kernelspec": {
   "display_name": "Python 2",
   "language": "python",
   "name": "python2"
  },
  "language_info": {
   "codemirror_mode": {
    "name": "ipython",
    "version": 2
   },
   "file_extension": ".py",
   "mimetype": "text/x-python",
   "name": "python",
   "nbconvert_exporter": "python",
   "pygments_lexer": "ipython2",
   "version": "2.7.6"
  }
 },
 "nbformat": 4,
 "nbformat_minor": 0
}
